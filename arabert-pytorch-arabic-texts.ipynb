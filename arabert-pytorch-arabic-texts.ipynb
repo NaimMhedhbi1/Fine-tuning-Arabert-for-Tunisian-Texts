{
 "cells": [
  {
   "cell_type": "markdown",
   "metadata": {
    "id": "rtI9LDGT-tW_",
    "papermill": {
     "duration": 0.044941,
     "end_time": "2020-12-06T21:37:32.022781",
     "exception": false,
     "start_time": "2020-12-06T21:37:31.977840",
     "status": "completed"
    },
    "tags": []
   },
   "source": [
    "#Installing dependencies"
   ]
  },
  {
   "cell_type": "code",
   "execution_count": 1,
   "metadata": {
    "execution": {
     "iopub.execute_input": "2020-12-06T21:37:32.124149Z",
     "iopub.status.busy": "2020-12-06T21:37:32.123296Z",
     "iopub.status.idle": "2020-12-06T21:38:02.158335Z",
     "shell.execute_reply": "2020-12-06T21:38:02.157402Z"
    },
    "id": "FiQIbCsz8_Ho",
    "papermill": {
     "duration": 30.090257,
     "end_time": "2020-12-06T21:38:02.158494",
     "exception": false,
     "start_time": "2020-12-06T21:37:32.068237",
     "status": "completed"
    },
    "tags": []
   },
   "outputs": [
    {
     "name": "stdout",
     "output_type": "stream",
     "text": [
      "Requirement already satisfied: transformers in /opt/conda/lib/python3.7/site-packages (2.11.0)\r\n",
      "Requirement already satisfied: sentencepiece in /opt/conda/lib/python3.7/site-packages (from transformers) (0.1.91)\r\n",
      "Requirement already satisfied: tokenizers==0.7.0 in /opt/conda/lib/python3.7/site-packages (from transformers) (0.7.0)\r\n",
      "Requirement already satisfied: sacremoses in /opt/conda/lib/python3.7/site-packages (from transformers) (0.0.43)\r\n",
      "Requirement already satisfied: numpy in /opt/conda/lib/python3.7/site-packages (from transformers) (1.18.5)\r\n",
      "Requirement already satisfied: filelock in /opt/conda/lib/python3.7/site-packages (from transformers) (3.0.10)\r\n",
      "Requirement already satisfied: requests in /opt/conda/lib/python3.7/site-packages (from transformers) (2.23.0)\r\n",
      "Requirement already satisfied: tqdm>=4.27 in /opt/conda/lib/python3.7/site-packages (from transformers) (4.45.0)\r\n",
      "Requirement already satisfied: packaging in /opt/conda/lib/python3.7/site-packages (from transformers) (20.1)\r\n",
      "Requirement already satisfied: regex!=2019.12.17 in /opt/conda/lib/python3.7/site-packages (from transformers) (2020.4.4)\r\n",
      "Requirement already satisfied: joblib in /opt/conda/lib/python3.7/site-packages (from sacremoses->transformers) (0.14.1)\r\n",
      "Requirement already satisfied: six in /opt/conda/lib/python3.7/site-packages (from sacremoses->transformers) (1.14.0)\r\n",
      "Requirement already satisfied: click in /opt/conda/lib/python3.7/site-packages (from sacremoses->transformers) (7.1.1)\r\n",
      "Requirement already satisfied: chardet<4,>=3.0.2 in /opt/conda/lib/python3.7/site-packages (from requests->transformers) (3.0.4)\r\n",
      "Requirement already satisfied: certifi>=2017.4.17 in /opt/conda/lib/python3.7/site-packages (from requests->transformers) (2020.6.20)\r\n",
      "Requirement already satisfied: urllib3!=1.25.0,!=1.25.1,<1.26,>=1.21.1 in /opt/conda/lib/python3.7/site-packages (from requests->transformers) (1.24.3)\r\n",
      "Requirement already satisfied: idna<3,>=2.5 in /opt/conda/lib/python3.7/site-packages (from requests->transformers) (2.9)\r\n",
      "Requirement already satisfied: pyparsing>=2.0.2 in /opt/conda/lib/python3.7/site-packages (from packaging->transformers) (2.4.7)\r\n",
      "\u001b[33mWARNING: You are using pip version 20.1.1; however, version 20.3.1 is available.\r\n",
      "You should consider upgrading via the '/opt/conda/bin/python3.7 -m pip install --upgrade pip' command.\u001b[0m\r\n",
      "Collecting farasapy\r\n",
      "  Downloading farasapy-0.0.10-py3-none-any.whl (12 kB)\r\n",
      "Requirement already satisfied: tqdm in /opt/conda/lib/python3.7/site-packages (from farasapy) (4.45.0)\r\n",
      "Requirement already satisfied: requests in /opt/conda/lib/python3.7/site-packages (from farasapy) (2.23.0)\r\n",
      "Requirement already satisfied: urllib3!=1.25.0,!=1.25.1,<1.26,>=1.21.1 in /opt/conda/lib/python3.7/site-packages (from requests->farasapy) (1.24.3)\r\n",
      "Requirement already satisfied: certifi>=2017.4.17 in /opt/conda/lib/python3.7/site-packages (from requests->farasapy) (2020.6.20)\r\n",
      "Requirement already satisfied: chardet<4,>=3.0.2 in /opt/conda/lib/python3.7/site-packages (from requests->farasapy) (3.0.4)\r\n",
      "Requirement already satisfied: idna<3,>=2.5 in /opt/conda/lib/python3.7/site-packages (from requests->farasapy) (2.9)\r\n",
      "Installing collected packages: farasapy\r\n",
      "Successfully installed farasapy-0.0.10\r\n",
      "\u001b[33mWARNING: You are using pip version 20.1.1; however, version 20.3.1 is available.\r\n",
      "You should consider upgrading via the '/opt/conda/bin/python3.7 -m pip install --upgrade pip' command.\u001b[0m\r\n",
      "Requirement already satisfied: pyarabic in /opt/conda/lib/python3.7/site-packages (0.6.8)\r\n",
      "\u001b[33mWARNING: You are using pip version 20.1.1; however, version 20.3.1 is available.\r\n",
      "You should consider upgrading via the '/opt/conda/bin/python3.7 -m pip install --upgrade pip' command.\u001b[0m\r\n",
      "Cloning into 'arabert'...\r\n",
      "remote: Enumerating objects: 65, done.\u001b[K\r\n",
      "remote: Counting objects: 100% (65/65), done.\u001b[K\r\n",
      "remote: Compressing objects: 100% (50/50), done.\u001b[K\r\n",
      "remote: Total 279 (delta 34), reused 38 (delta 15), pack-reused 214\u001b[K\r\n",
      "Receiving objects: 100% (279/279), 3.68 MiB | 17.62 MiB/s, done.\r\n",
      "Resolving deltas: 100% (157/157), done.\r\n"
     ]
    }
   ],
   "source": [
    "!pip install transformers\n",
    "!pip install farasapy\n",
    "!pip install pyarabic\n",
    "!git clone https://github.com/aub-mind/arabert"
   ]
  },
  {
   "cell_type": "markdown",
   "metadata": {
    "id": "TsTShS56xgU5",
    "papermill": {
     "duration": 0.050994,
     "end_time": "2020-12-06T21:38:02.262626",
     "exception": false,
     "start_time": "2020-12-06T21:38:02.211632",
     "status": "completed"
    },
    "tags": []
   },
   "source": [
    "To do Farasa segmenting you will need FarasaSegmenter.jar in the same directory as the preprocess.py file \n",
    "\n",
    "(you can get the Farasa segmenter from http://qatsdemo.cloudapp.net/farasa/register.html)"
   ]
  },
  {
   "cell_type": "code",
   "execution_count": 2,
   "metadata": {
    "execution": {
     "iopub.execute_input": "2020-12-06T21:38:02.374825Z",
     "iopub.status.busy": "2020-12-06T21:38:02.373736Z",
     "iopub.status.idle": "2020-12-06T21:38:02.377533Z",
     "shell.execute_reply": "2020-12-06T21:38:02.376612Z"
    },
    "id": "V_KkWtGxxfZ-",
    "papermill": {
     "duration": 0.0632,
     "end_time": "2020-12-06T21:38:02.377698",
     "exception": false,
     "start_time": "2020-12-06T21:38:02.314498",
     "status": "completed"
    },
    "tags": []
   },
   "outputs": [],
   "source": [
    "#Copy or download Farasa to the colab env"
   ]
  },
  {
   "cell_type": "code",
   "execution_count": 3,
   "metadata": {
    "execution": {
     "iopub.execute_input": "2020-12-06T21:38:02.487918Z",
     "iopub.status.busy": "2020-12-06T21:38:02.487034Z",
     "iopub.status.idle": "2020-12-06T21:38:03.254221Z",
     "shell.execute_reply": "2020-12-06T21:38:03.253212Z"
    },
    "id": "UalNgZME_bCn",
    "papermill": {
     "duration": 0.824292,
     "end_time": "2020-12-06T21:38:03.254382",
     "exception": false,
     "start_time": "2020-12-06T21:38:02.430090",
     "status": "completed"
    },
    "tags": []
   },
   "outputs": [],
   "source": [
    "#This command is usefull when the java runtime hangs after a runtime restart (colab issue)\n",
    "!pkill \"java\""
   ]
  },
  {
   "cell_type": "code",
   "execution_count": 4,
   "metadata": {
    "execution": {
     "iopub.execute_input": "2020-12-06T21:38:03.373914Z",
     "iopub.status.busy": "2020-12-06T21:38:03.372592Z",
     "iopub.status.idle": "2020-12-06T21:38:05.206585Z",
     "shell.execute_reply": "2020-12-06T21:38:05.205558Z"
    },
    "id": "fF0e0ZMT_fHK",
    "outputId": "e48bb522-75d8-4abc-d9c1-bc82a5078f84",
    "papermill": {
     "duration": 1.900447,
     "end_time": "2020-12-06T21:38:05.206787",
     "exception": false,
     "start_time": "2020-12-06T21:38:03.306340",
     "status": "completed"
    },
    "tags": []
   },
   "outputs": [
    {
     "name": "stdout",
     "output_type": "stream",
     "text": [
      "No GPU available, using the CPU instead.\n"
     ]
    }
   ],
   "source": [
    "#Checking for GPU\n",
    "import torch\n",
    "\n",
    "# If there's a GPU available...\n",
    "if torch.cuda.is_available():    \n",
    "\n",
    "    # Tell PyTorch to use the GPU.    \n",
    "    device = torch.device(\"cuda\")\n",
    "\n",
    "    print('There are %d GPU(s) available.' % torch.cuda.device_count())\n",
    "\n",
    "    print('We will use the GPU:', torch.cuda.get_device_name(0))\n",
    "    !nvidia-smi\n",
    "\n",
    "# If not...\n",
    "else:\n",
    "    print('No GPU available, using the CPU instead.')\n",
    "    device = torch.device(\"cpu\")"
   ]
  },
  {
   "cell_type": "markdown",
   "metadata": {
    "id": "9aC8vgSnAKYA",
    "papermill": {
     "duration": 0.052121,
     "end_time": "2020-12-06T21:38:05.313220",
     "exception": false,
     "start_time": "2020-12-06T21:38:05.261099",
     "status": "completed"
    },
    "tags": []
   },
   "source": [
    "#Reading and Preparing Data"
   ]
  },
  {
   "cell_type": "code",
   "execution_count": 5,
   "metadata": {
    "execution": {
     "iopub.execute_input": "2020-12-06T21:38:05.425172Z",
     "iopub.status.busy": "2020-12-06T21:38:05.424340Z",
     "iopub.status.idle": "2020-12-06T21:38:28.871791Z",
     "shell.execute_reply": "2020-12-06T21:38:28.871072Z"
    },
    "id": "Ceof45e7_s8O",
    "papermill": {
     "duration": 23.50613,
     "end_time": "2020-12-06T21:38:28.872005",
     "exception": false,
     "start_time": "2020-12-06T21:38:05.365875",
     "status": "completed"
    },
    "tags": []
   },
   "outputs": [
    {
     "name": "stdout",
     "output_type": "stream",
     "text": [
      "100%|██████████| 241M/241M [00:14<00:00, 9.84MiB/s]"
     ]
    },
    {
     "name": "stderr",
     "output_type": "stream",
     "text": [
      "[2020-12-06 21:38:24,212 - farasapy_logger - WARNING]: Be careful with large lines as they may break on interactive mode. You may switch to Standalone mode for such cases.\n"
     ]
    }
   ],
   "source": [
    "import pandas as pd\n",
    "#from py4j.java_gateway import JavaGateway\n",
    "from farasa.segmenter import FarasaSegmenter\n",
    "from arabert.preprocess_arabert import preprocess\n",
    "from sklearn.model_selection import train_test_split\n",
    "\n",
    "# !pkill \"java\"\n",
    "# gateway = JavaGateway.launch_gateway(classpath='./FarasaSegmenterJar.jar')\n",
    "# farasa_segmenter = gateway.jvm.com.qcri.farasa.segmenter.Farasa()\n",
    "\n",
    "farasa_segmenter = FarasaSegmenter(interactive=True)\n",
    "\n"
   ]
  },
  {
   "cell_type": "code",
   "execution_count": 6,
   "metadata": {
    "execution": {
     "iopub.execute_input": "2020-12-06T21:38:29.043485Z",
     "iopub.status.busy": "2020-12-06T21:38:29.042547Z",
     "iopub.status.idle": "2020-12-06T21:38:31.903677Z",
     "shell.execute_reply": "2020-12-06T21:38:31.902892Z"
    },
    "papermill": {
     "duration": 2.949336,
     "end_time": "2020-12-06T21:38:31.904002",
     "exception": false,
     "start_time": "2020-12-06T21:38:28.954666",
     "status": "completed"
    },
    "tags": []
   },
   "outputs": [],
   "source": [
    "df_AJGT = pd.read_excel('../input/tunisian-texts/tun.xlsx',header=0)"
   ]
  },
  {
   "cell_type": "code",
   "execution_count": 7,
   "metadata": {
    "execution": {
     "iopub.execute_input": "2020-12-06T21:38:32.086499Z",
     "iopub.status.busy": "2020-12-06T21:38:32.085577Z",
     "iopub.status.idle": "2020-12-06T21:38:32.096699Z",
     "shell.execute_reply": "2020-12-06T21:38:32.097382Z"
    },
    "papermill": {
     "duration": 0.110611,
     "end_time": "2020-12-06T21:38:32.097580",
     "exception": false,
     "start_time": "2020-12-06T21:38:31.986969",
     "status": "completed"
    },
    "tags": []
   },
   "outputs": [
    {
     "data": {
      "text/html": [
       "<div>\n",
       "<style scoped>\n",
       "    .dataframe tbody tr th:only-of-type {\n",
       "        vertical-align: middle;\n",
       "    }\n",
       "\n",
       "    .dataframe tbody tr th {\n",
       "        vertical-align: top;\n",
       "    }\n",
       "\n",
       "    .dataframe thead th {\n",
       "        text-align: right;\n",
       "    }\n",
       "</style>\n",
       "<table border=\"1\" class=\"dataframe\">\n",
       "  <thead>\n",
       "    <tr style=\"text-align: right;\">\n",
       "      <th></th>\n",
       "      <th>texts</th>\n",
       "      <th>data_labels</th>\n",
       "    </tr>\n",
       "  </thead>\n",
       "  <tbody>\n",
       "    <tr>\n",
       "      <th>0</th>\n",
       "      <td>[المجلس الأعلى للأمن الجزائر برئاسة الرئيس عبد...</td>\n",
       "      <td>1</td>\n",
       "    </tr>\n",
       "    <tr>\n",
       "      <th>1</th>\n",
       "      <td>[سنتخذ إجراءات لحماية حدودنا وإقليمنا وسنفعل د...</td>\n",
       "      <td>1</td>\n",
       "    </tr>\n",
       "    <tr>\n",
       "      <th>2</th>\n",
       "      <td>[الصين تطلق الصاروخ الفضائي القوي (longue marc...</td>\n",
       "      <td>1</td>\n",
       "    </tr>\n",
       "    <tr>\n",
       "      <th>3</th>\n",
       "      <td>[المصدرfrance 24]</td>\n",
       "      <td>1</td>\n",
       "    </tr>\n",
       "    <tr>\n",
       "      <th>4</th>\n",
       "      <td>[هذا عام ينقصي أعمارنا وعام يقبل علينا فماذا ف...</td>\n",
       "      <td>1</td>\n",
       "    </tr>\n",
       "    <tr>\n",
       "      <th>...</th>\n",
       "      <td>...</td>\n",
       "      <td>...</td>\n",
       "    </tr>\n",
       "    <tr>\n",
       "      <th>32813</th>\n",
       "      <td>[علم موقع نسمة، باخرة إيطالية، وصلت ساعة متأخر...</td>\n",
       "      <td>0</td>\n",
       "    </tr>\n",
       "    <tr>\n",
       "      <th>32814</th>\n",
       "      <td>[رجع الهم، زايد بلاد بلا راجل، موش سكرتو الحدو...</td>\n",
       "      <td>0</td>\n",
       "    </tr>\n",
       "    <tr>\n",
       "      <th>32815</th>\n",
       "      <td>[نداء الى رئيس الجمهورية]</td>\n",
       "      <td>0</td>\n",
       "    </tr>\n",
       "    <tr>\n",
       "      <th>32816</th>\n",
       "      <td>[هبط الجيش واقفل الحدود وأعلن الحالة القصوى وك...</td>\n",
       "      <td>0</td>\n",
       "    </tr>\n",
       "    <tr>\n",
       "      <th>32817</th>\n",
       "      <td>[ملى لعب]</td>\n",
       "      <td>0</td>\n",
       "    </tr>\n",
       "  </tbody>\n",
       "</table>\n",
       "<p>32818 rows × 2 columns</p>\n",
       "</div>"
      ],
      "text/plain": [
       "                                                   texts  data_labels\n",
       "0      [المجلس الأعلى للأمن الجزائر برئاسة الرئيس عبد...            1\n",
       "1      [سنتخذ إجراءات لحماية حدودنا وإقليمنا وسنفعل د...            1\n",
       "2      [الصين تطلق الصاروخ الفضائي القوي (longue marc...            1\n",
       "3                                      [المصدرfrance 24]            1\n",
       "4      [هذا عام ينقصي أعمارنا وعام يقبل علينا فماذا ف...            1\n",
       "...                                                  ...          ...\n",
       "32813  [علم موقع نسمة، باخرة إيطالية، وصلت ساعة متأخر...            0\n",
       "32814  [رجع الهم، زايد بلاد بلا راجل، موش سكرتو الحدو...            0\n",
       "32815                          [نداء الى رئيس الجمهورية]            0\n",
       "32816  [هبط الجيش واقفل الحدود وأعلن الحالة القصوى وك...            0\n",
       "32817                                          [ملى لعب]            0\n",
       "\n",
       "[32818 rows x 2 columns]"
      ]
     },
     "execution_count": 7,
     "metadata": {},
     "output_type": "execute_result"
    }
   ],
   "source": [
    "df_AJGT"
   ]
  },
  {
   "cell_type": "code",
   "execution_count": 8,
   "metadata": {
    "execution": {
     "iopub.execute_input": "2020-12-06T21:38:32.270617Z",
     "iopub.status.busy": "2020-12-06T21:38:32.269728Z",
     "iopub.status.idle": "2020-12-06T21:38:32.273795Z",
     "shell.execute_reply": "2020-12-06T21:38:32.273009Z"
    },
    "papermill": {
     "duration": 0.091864,
     "end_time": "2020-12-06T21:38:32.273958",
     "exception": false,
     "start_time": "2020-12-06T21:38:32.182094",
     "status": "completed"
    },
    "tags": []
   },
   "outputs": [],
   "source": [
    "#df_AJGT['data_labels'] = df_AJGT['data_labels'].astype(int)"
   ]
  },
  {
   "cell_type": "code",
   "execution_count": 9,
   "metadata": {
    "execution": {
     "iopub.execute_input": "2020-12-06T21:38:32.448778Z",
     "iopub.status.busy": "2020-12-06T21:38:32.447512Z",
     "iopub.status.idle": "2020-12-06T21:38:32.452868Z",
     "shell.execute_reply": "2020-12-06T21:38:32.453484Z"
    },
    "papermill": {
     "duration": 0.096858,
     "end_time": "2020-12-06T21:38:32.453690",
     "exception": false,
     "start_time": "2020-12-06T21:38:32.356832",
     "status": "completed"
    },
    "tags": []
   },
   "outputs": [
    {
     "data": {
      "text/plain": [
       "texts          object\n",
       "data_labels     int64\n",
       "dtype: object"
      ]
     },
     "execution_count": 9,
     "metadata": {},
     "output_type": "execute_result"
    }
   ],
   "source": [
    "df_AJGT.dtypes"
   ]
  },
  {
   "cell_type": "code",
   "execution_count": 10,
   "metadata": {
    "execution": {
     "iopub.execute_input": "2020-12-06T21:38:32.642308Z",
     "iopub.status.busy": "2020-12-06T21:38:32.636816Z",
     "iopub.status.idle": "2020-12-06T21:38:32.646555Z",
     "shell.execute_reply": "2020-12-06T21:38:32.645872Z"
    },
    "papermill": {
     "duration": 0.107315,
     "end_time": "2020-12-06T21:38:32.646717",
     "exception": false,
     "start_time": "2020-12-06T21:38:32.539402",
     "status": "completed"
    },
    "tags": []
   },
   "outputs": [],
   "source": [
    "DATA_COLUMN = 'texts'\n",
    "LABEL_COLUMN = 'data_labels'\n",
    "\n",
    "df_AJGT = df_AJGT[['texts', 'data_labels']]\n",
    "df_AJGT.columns = [DATA_COLUMN, LABEL_COLUMN]"
   ]
  },
  {
   "cell_type": "code",
   "execution_count": 11,
   "metadata": {
    "execution": {
     "iopub.execute_input": "2020-12-06T21:38:32.820827Z",
     "iopub.status.busy": "2020-12-06T21:38:32.819706Z",
     "iopub.status.idle": "2020-12-06T21:38:32.822566Z",
     "shell.execute_reply": "2020-12-06T21:38:32.823212Z"
    },
    "papermill": {
     "duration": 0.092462,
     "end_time": "2020-12-06T21:38:32.823396",
     "exception": false,
     "start_time": "2020-12-06T21:38:32.730934",
     "status": "completed"
    },
    "tags": []
   },
   "outputs": [],
   "source": [
    "#label_map = {'Positive' : 0,'Negative' : 1}"
   ]
  },
  {
   "cell_type": "code",
   "execution_count": 12,
   "metadata": {
    "execution": {
     "iopub.execute_input": "2020-12-06T21:38:33.000216Z",
     "iopub.status.busy": "2020-12-06T21:38:32.999106Z",
     "iopub.status.idle": "2020-12-06T21:38:33.002851Z",
     "shell.execute_reply": "2020-12-06T21:38:33.002058Z"
    },
    "papermill": {
     "duration": 0.093731,
     "end_time": "2020-12-06T21:38:33.003039",
     "exception": false,
     "start_time": "2020-12-06T21:38:32.909308",
     "status": "completed"
    },
    "tags": []
   },
   "outputs": [],
   "source": [
    "#label_map "
   ]
  },
  {
   "cell_type": "code",
   "execution_count": 13,
   "metadata": {
    "execution": {
     "iopub.execute_input": "2020-12-06T21:38:33.189641Z",
     "iopub.status.busy": "2020-12-06T21:38:33.188293Z",
     "iopub.status.idle": "2020-12-06T21:39:15.416039Z",
     "shell.execute_reply": "2020-12-06T21:39:15.414926Z"
    },
    "papermill": {
     "duration": 42.329776,
     "end_time": "2020-12-06T21:39:15.416312",
     "exception": false,
     "start_time": "2020-12-06T21:38:33.086536",
     "status": "completed"
    },
    "tags": []
   },
   "outputs": [
    {
     "name": "stdout",
     "output_type": "stream",
     "text": [
      "100%|██████████| 241M/241M [00:30<00:00, 9.84MiB/s]"
     ]
    }
   ],
   "source": [
    "df_AJGT[DATA_COLUMN] = df_AJGT[DATA_COLUMN].apply(lambda x: preprocess(x, do_farasa_tokenization=True , farasa=farasa_segmenter, use_farasapy = True))"
   ]
  },
  {
   "cell_type": "code",
   "execution_count": 14,
   "metadata": {
    "execution": {
     "iopub.execute_input": "2020-12-06T21:39:15.615043Z",
     "iopub.status.busy": "2020-12-06T21:39:15.613820Z",
     "iopub.status.idle": "2020-12-06T21:39:15.619869Z",
     "shell.execute_reply": "2020-12-06T21:39:15.619061Z"
    },
    "papermill": {
     "duration": 0.108762,
     "end_time": "2020-12-06T21:39:15.620048",
     "exception": false,
     "start_time": "2020-12-06T21:39:15.511286",
     "status": "completed"
    },
    "tags": []
   },
   "outputs": [
    {
     "data": {
      "text/plain": [
       "0        ال+ مجلس ال+ أعلى ل+ ال+ أمن ال+ جزائر ب+ رئاس...\n",
       "1        س+ نتخذ إجراء +ات ل+ حماي +ة حدود +نا و+ إقليم...\n",
       "2        ال+ صين تطلق ال+ صاروخ ال+ فضائي ال+ قوي ( lon...\n",
       "3                                        ال+ مصدرfrance 24\n",
       "4        هذا عام ينقصي أعمار +نا و+ عام يقبل علي +نا ف+...\n",
       "                               ...                        \n",
       "32813    علم موقع نسم +ة ، باخر +ة إيطالي +ة ، وصل +ت س...\n",
       "32814    رجع ال+ +هم ، زايد بلاد ب+ لا راجل ، موش سكرتو...\n",
       "32815                          نداء الى رئيس ال+ جمهوري +ة\n",
       "32816    هبط ال+ جيش و+ أقفل ال+ حدود و+ أعلن ال+ حال +...\n",
       "32817                                              ملى لعب\n",
       "Name: texts, Length: 32818, dtype: object"
      ]
     },
     "execution_count": 14,
     "metadata": {},
     "output_type": "execute_result"
    }
   ],
   "source": [
    "df_AJGT[DATA_COLUMN]"
   ]
  },
  {
   "cell_type": "code",
   "execution_count": 15,
   "metadata": {
    "execution": {
     "iopub.execute_input": "2020-12-06T21:39:15.839081Z",
     "iopub.status.busy": "2020-12-06T21:39:15.837765Z",
     "iopub.status.idle": "2020-12-06T21:39:15.841803Z",
     "shell.execute_reply": "2020-12-06T21:39:15.841119Z"
    },
    "papermill": {
     "duration": 0.125243,
     "end_time": "2020-12-06T21:39:15.841989",
     "exception": false,
     "start_time": "2020-12-06T21:39:15.716746",
     "status": "completed"
    },
    "tags": []
   },
   "outputs": [],
   "source": [
    "#df_AJGT[LABEL_COLUMN] = df_AJGT[LABEL_COLUMN].apply(lambda x: label_map[x])"
   ]
  },
  {
   "cell_type": "code",
   "execution_count": 16,
   "metadata": {
    "execution": {
     "iopub.execute_input": "2020-12-06T21:39:16.078101Z",
     "iopub.status.busy": "2020-12-06T21:39:16.077129Z",
     "iopub.status.idle": "2020-12-06T21:39:16.085402Z",
     "shell.execute_reply": "2020-12-06T21:39:16.084639Z"
    },
    "papermill": {
     "duration": 0.13711,
     "end_time": "2020-12-06T21:39:16.085572",
     "exception": false,
     "start_time": "2020-12-06T21:39:15.948462",
     "status": "completed"
    },
    "tags": []
   },
   "outputs": [
    {
     "data": {
      "text/plain": [
       "0        1\n",
       "1        1\n",
       "2        1\n",
       "3        1\n",
       "4        1\n",
       "        ..\n",
       "32813    0\n",
       "32814    0\n",
       "32815    0\n",
       "32816    0\n",
       "32817    0\n",
       "Name: data_labels, Length: 32818, dtype: int64"
      ]
     },
     "execution_count": 16,
     "metadata": {},
     "output_type": "execute_result"
    }
   ],
   "source": [
    "df_AJGT[LABEL_COLUMN] "
   ]
  },
  {
   "cell_type": "code",
   "execution_count": 17,
   "metadata": {
    "execution": {
     "iopub.execute_input": "2020-12-06T21:39:16.280749Z",
     "iopub.status.busy": "2020-12-06T21:39:16.279612Z",
     "iopub.status.idle": "2020-12-06T21:39:16.294708Z",
     "shell.execute_reply": "2020-12-06T21:39:16.293961Z"
    },
    "papermill": {
     "duration": 0.113833,
     "end_time": "2020-12-06T21:39:16.294853",
     "exception": false,
     "start_time": "2020-12-06T21:39:16.181020",
     "status": "completed"
    },
    "tags": []
   },
   "outputs": [],
   "source": [
    "train_AJGT, test_AJGT = train_test_split(df_AJGT, test_size=0.2,random_state=42)"
   ]
  },
  {
   "cell_type": "code",
   "execution_count": 18,
   "metadata": {
    "execution": {
     "iopub.execute_input": "2020-12-06T21:39:16.481400Z",
     "iopub.status.busy": "2020-12-06T21:39:16.480249Z",
     "iopub.status.idle": "2020-12-06T21:39:16.484592Z",
     "shell.execute_reply": "2020-12-06T21:39:16.483833Z"
    },
    "id": "8DiGo8MkUN2B",
    "papermill": {
     "duration": 0.10085,
     "end_time": "2020-12-06T21:39:16.484735",
     "exception": false,
     "start_time": "2020-12-06T21:39:16.383885",
     "status": "completed"
    },
    "tags": []
   },
   "outputs": [],
   "source": [
    "#%load_ext google.colab.data_table"
   ]
  },
  {
   "cell_type": "code",
   "execution_count": 19,
   "metadata": {
    "execution": {
     "iopub.execute_input": "2020-12-06T21:39:16.672168Z",
     "iopub.status.busy": "2020-12-06T21:39:16.668197Z",
     "iopub.status.idle": "2020-12-06T21:39:16.678454Z",
     "shell.execute_reply": "2020-12-06T21:39:16.677643Z"
    },
    "id": "YMGa-giVK6Ce",
    "outputId": "f2d56019-e062-49cf-94b5-929cb571618f",
    "papermill": {
     "duration": 0.107751,
     "end_time": "2020-12-06T21:39:16.678596",
     "exception": false,
     "start_time": "2020-12-06T21:39:16.570845",
     "status": "completed"
    },
    "tags": []
   },
   "outputs": [
    {
     "data": {
      "text/html": [
       "<div>\n",
       "<style scoped>\n",
       "    .dataframe tbody tr th:only-of-type {\n",
       "        vertical-align: middle;\n",
       "    }\n",
       "\n",
       "    .dataframe tbody tr th {\n",
       "        vertical-align: top;\n",
       "    }\n",
       "\n",
       "    .dataframe thead th {\n",
       "        text-align: right;\n",
       "    }\n",
       "</style>\n",
       "<table border=\"1\" class=\"dataframe\">\n",
       "  <thead>\n",
       "    <tr style=\"text-align: right;\">\n",
       "      <th></th>\n",
       "      <th>texts</th>\n",
       "      <th>data_labels</th>\n",
       "    </tr>\n",
       "  </thead>\n",
       "  <tbody>\n",
       "    <tr>\n",
       "      <th>21102</th>\n",
       "      <td>ال+ وعي هو +ا ال+ دواء ال+ وحيد أكون ال+ مواطن...</td>\n",
       "      <td>1</td>\n",
       "    </tr>\n",
       "    <tr>\n",
       "      <th>8902</th>\n",
       "      <td>قنا +ة نسم +ة ال+ يوتوب ⬅ ️ youtubecom / NessmaTV</td>\n",
       "      <td>1</td>\n",
       "    </tr>\n",
       "    <tr>\n",
       "      <th>8310</th>\n",
       "      <td>شدو +ا ديار +كم ال+ حل ال+ وحيد ل+ ال+ قضاء ال...</td>\n",
       "      <td>1</td>\n",
       "    </tr>\n",
       "    <tr>\n",
       "      <th>26341</th>\n",
       "      <td>لازم يبق +وا ال+ دار اجباري</td>\n",
       "      <td>1</td>\n",
       "    </tr>\n",
       "    <tr>\n",
       "      <th>14927</th>\n",
       "      <td></td>\n",
       "      <td>1</td>\n",
       "    </tr>\n",
       "    <tr>\n",
       "      <th>...</th>\n",
       "      <td>...</td>\n",
       "      <td>...</td>\n",
       "    </tr>\n",
       "    <tr>\n",
       "      <th>14681</th>\n",
       "      <td>Allah yar7amha</td>\n",
       "      <td>1</td>\n",
       "    </tr>\n",
       "    <tr>\n",
       "      <th>14468</th>\n",
       "      <td>شدو +ا ديار +كم</td>\n",
       "      <td>1</td>\n",
       "    </tr>\n",
       "    <tr>\n",
       "      <th>20133</th>\n",
       "      <td>ب+ تعليم +ات رئيس ال+ جمهوري +ة</td>\n",
       "      <td>1</td>\n",
       "    </tr>\n",
       "    <tr>\n",
       "      <th>19424</th>\n",
       "      <td>وزار +ة ال+ دفاع مفجوع +ة شوف مسموطين ب+ ال+ خ...</td>\n",
       "      <td>1</td>\n",
       "    </tr>\n",
       "    <tr>\n",
       "      <th>20647</th>\n",
       "      <td>ال+ طبيب قولولو يمشي يداوي روح +ه قبل</td>\n",
       "      <td>1</td>\n",
       "    </tr>\n",
       "  </tbody>\n",
       "</table>\n",
       "<p>6564 rows × 2 columns</p>\n",
       "</div>"
      ],
      "text/plain": [
       "                                                   texts  data_labels\n",
       "21102  ال+ وعي هو +ا ال+ دواء ال+ وحيد أكون ال+ مواطن...            1\n",
       "8902   قنا +ة نسم +ة ال+ يوتوب ⬅ ️ youtubecom / NessmaTV            1\n",
       "8310   شدو +ا ديار +كم ال+ حل ال+ وحيد ل+ ال+ قضاء ال...            1\n",
       "26341                        لازم يبق +وا ال+ دار اجباري            1\n",
       "14927                                                               1\n",
       "...                                                  ...          ...\n",
       "14681                                     Allah yar7amha            1\n",
       "14468                                    شدو +ا ديار +كم            1\n",
       "20133                    ب+ تعليم +ات رئيس ال+ جمهوري +ة            1\n",
       "19424  وزار +ة ال+ دفاع مفجوع +ة شوف مسموطين ب+ ال+ خ...            1\n",
       "20647              ال+ طبيب قولولو يمشي يداوي روح +ه قبل            1\n",
       "\n",
       "[6564 rows x 2 columns]"
      ]
     },
     "execution_count": 19,
     "metadata": {},
     "output_type": "execute_result"
    }
   ],
   "source": [
    "test_AJGT"
   ]
  },
  {
   "cell_type": "code",
   "execution_count": 20,
   "metadata": {
    "execution": {
     "iopub.execute_input": "2020-12-06T21:39:16.877047Z",
     "iopub.status.busy": "2020-12-06T21:39:16.871707Z",
     "iopub.status.idle": "2020-12-06T21:39:17.935650Z",
     "shell.execute_reply": "2020-12-06T21:39:17.934993Z"
    },
    "id": "C9_qeVxmA7vD",
    "papermill": {
     "duration": 1.166071,
     "end_time": "2020-12-06T21:39:17.935801",
     "exception": false,
     "start_time": "2020-12-06T21:39:16.769730",
     "status": "completed"
    },
    "tags": []
   },
   "outputs": [],
   "source": [
    "train_df = pd.DataFrame({\n",
    "    'id':range(len(train_AJGT)),\n",
    "    'label':train_AJGT[\"data_labels\"],\n",
    "    'alpha':['a']*train_AJGT.shape[0],\n",
    "    'text': train_AJGT[\"texts\"].replace(r'\\n', ' ', regex=True)\n",
    "})\n",
    "\n",
    "dev_df = pd.DataFrame({\n",
    "    'id':range(len(test_AJGT)),\n",
    "    'label':test_AJGT[\"data_labels\"],\n",
    "    'alpha':['a']*test_AJGT.shape[0],\n",
    "    'text': test_AJGT[\"texts\"].replace(r'\\n', ' ', regex=True)\n",
    "})\n",
    "\n",
    "!mkdir data\n",
    "train_df.to_csv(\"data/train.tsv\",index=False,columns=train_df.columns,sep='\\t',header=False)\n",
    "dev_df.to_csv(\"data/dev.tsv\",index=False,columns=dev_df.columns,sep='\\t',header=False)"
   ]
  },
  {
   "cell_type": "markdown",
   "metadata": {
    "id": "LTedIp4HB3QN",
    "papermill": {
     "duration": 0.087998,
     "end_time": "2020-12-06T21:39:18.112382",
     "exception": false,
     "start_time": "2020-12-06T21:39:18.024384",
     "status": "completed"
    },
    "tags": []
   },
   "source": [
    "#Model Finetuning"
   ]
  },
  {
   "cell_type": "markdown",
   "metadata": {
    "id": "QdsgA9cZrmFO",
    "papermill": {
     "duration": 0.091405,
     "end_time": "2020-12-06T21:39:18.299403",
     "exception": false,
     "start_time": "2020-12-06T21:39:18.207998",
     "status": "completed"
    },
    "tags": []
   },
   "source": [
    "##Imports"
   ]
  },
  {
   "cell_type": "code",
   "execution_count": 21,
   "metadata": {
    "execution": {
     "iopub.execute_input": "2020-12-06T21:39:18.494218Z",
     "iopub.status.busy": "2020-12-06T21:39:18.490362Z",
     "iopub.status.idle": "2020-12-06T21:39:26.572917Z",
     "shell.execute_reply": "2020-12-06T21:39:26.572161Z"
    },
    "id": "LYDW5XJJqxUi",
    "papermill": {
     "duration": 8.178987,
     "end_time": "2020-12-06T21:39:26.573072",
     "exception": false,
     "start_time": "2020-12-06T21:39:18.394085",
     "status": "completed"
    },
    "tags": []
   },
   "outputs": [
    {
     "name": "stderr",
     "output_type": "stream",
     "text": [
      "\u001b[34m\u001b[1mwandb\u001b[0m: \u001b[33mWARNING\u001b[0m W&B installed but not logged in.  Run `wandb login` or set the WANDB_API_KEY env variable.\n"
     ]
    }
   ],
   "source": [
    "from __future__ import absolute_import, division, print_function\n",
    "\n",
    "import glob\n",
    "import logging\n",
    "import os\n",
    "import random\n",
    "import json\n",
    "import csv\n",
    "import sys\n",
    "from io import open\n",
    "from multiprocessing import Pool, cpu_count\n",
    "from tqdm import tqdm\n",
    "import numpy as np\n",
    "\n",
    "import torch\n",
    "from torch.utils.data import (DataLoader, RandomSampler, SequentialSampler,\n",
    "                              TensorDataset)\n",
    "from torch.utils.data.distributed import DistributedSampler\n",
    "from tqdm import tqdm_notebook, trange\n",
    "from torch.utils.tensorboard import SummaryWriter\n",
    "from torch import nn\n",
    "from torch.nn import CrossEntropyLoss, MSELoss\n",
    "\n",
    "from transformers import BertPreTrainedModel\n",
    "from transformers import BertModel\n",
    "from transformers import WEIGHTS_NAME, BertConfig, BertForSequenceClassification, BertTokenizer                                  \n",
    "from transformers import AdamW, get_linear_schedule_with_warmup\n",
    "\n",
    "from arabert.preprocess_arabert import never_split_tokens\n",
    "\n",
    "logging.basicConfig(level=logging.INFO)\n",
    "logger = logging.getLogger(__name__)"
   ]
  },
  {
   "cell_type": "markdown",
   "metadata": {
    "id": "91jNwkYVs7VH",
    "papermill": {
     "duration": 0.086865,
     "end_time": "2020-12-06T21:39:26.747346",
     "exception": false,
     "start_time": "2020-12-06T21:39:26.660481",
     "status": "completed"
    },
    "tags": []
   },
   "source": [
    "##Building the model"
   ]
  },
  {
   "cell_type": "code",
   "execution_count": 22,
   "metadata": {
    "execution": {
     "iopub.execute_input": "2020-12-06T21:39:26.953524Z",
     "iopub.status.busy": "2020-12-06T21:39:26.934354Z",
     "iopub.status.idle": "2020-12-06T21:39:26.957526Z",
     "shell.execute_reply": "2020-12-06T21:39:26.956813Z"
    },
    "id": "r7smHQUMrkVG",
    "papermill": {
     "duration": 0.123266,
     "end_time": "2020-12-06T21:39:26.957673",
     "exception": false,
     "start_time": "2020-12-06T21:39:26.834407",
     "status": "completed"
    },
    "tags": []
   },
   "outputs": [],
   "source": [
    "class BertForSequenceClassification(BertPreTrainedModel):\n",
    "    def __init__(self, config, loss_fn=None):\n",
    "        super().__init__(config)\n",
    "        self.num_labels = config.num_labels\n",
    "        \n",
    "        self.bert = BertModel(config) #https://github.com/huggingface/transformers/blob/master/src/transformers/modeling_bert.py#L594 \n",
    "        self.dropout = nn.Dropout(config.hidden_dropout_prob)\n",
    "        self.classifier = nn.Linear(config.hidden_size, self.config.num_labels)\n",
    "        self.loss_fn = loss_fn\n",
    "        self.init_weights()\n",
    "\n",
    "    def forward(\n",
    "        self,\n",
    "        input_ids=None,\n",
    "        attention_mask=None,\n",
    "        token_type_ids=None,\n",
    "        position_ids=None,\n",
    "        head_mask=None,\n",
    "        inputs_embeds=None,\n",
    "        labels=None,\n",
    "    ):\n",
    "        r\"\"\"\n",
    "        labels (:obj:`torch.LongTensor` of shape :obj:`(batch_size,)`, `optional`, defaults to :obj:`None`):\n",
    "            Labels for computing the sequence classification/regression loss.\n",
    "            Indices should be in :obj:`[0, ..., config.num_labels - 1]`.\n",
    "            If :obj:`config.num_labels == 1` a regression loss is computed (Mean-Square loss),\n",
    "            If :obj:`config.num_labels > 1` a classification loss is computed (Cross-Entropy).\n",
    "    Returns:\n",
    "        :obj:`tuple(torch.FloatTensor)` comprising various elements depending on the configuration (:class:`~transformers.BertConfig`) and inputs:\n",
    "        loss (:obj:`torch.FloatTensor` of shape :obj:`(1,)`, `optional`, returned when :obj:`label` is provided):\n",
    "            Classification (or regression if config.num_labels==1) loss.\n",
    "        logits (:obj:`torch.FloatTensor` of shape :obj:`(batch_size, config.num_labels)`):\n",
    "            Classification (or regression if config.num_labels==1) scores (before SoftMax).\n",
    "        hidden_states (:obj:`tuple(torch.FloatTensor)`, `optional`, returned when ``config.output_hidden_states=True``):\n",
    "            Tuple of :obj:`torch.FloatTensor` (one for the output of the embeddings + one for the output of each layer)\n",
    "            of shape :obj:`(batch_size, sequence_length, hidden_size)`.\n",
    "            Hidden-states of the model at the output of each layer plus the initial embedding outputs.\n",
    "        attentions (:obj:`tuple(torch.FloatTensor)`, `optional`, returned when ``config.output_attentions=True``):\n",
    "            Tuple of :obj:`torch.FloatTensor` (one for each layer) of shape\n",
    "            :obj:`(batch_size, num_heads, sequence_length, sequence_length)`.\n",
    "            Attentions weights after the attention softmax, used to compute the weighted average in the self-attention\n",
    "            heads.\n",
    "    Examples::\n",
    "        from transformers import BertTokenizer, BertForSequenceClassification\n",
    "        import torch\n",
    "        tokenizer = BertTokenizer.from_pretrained('bert-base-uncased')\n",
    "        model = BertForSequenceClassification.from_pretrained('bert-base-uncased')\n",
    "        input_ids = torch.tensor(tokenizer.encode(\"Hello, my dog is cute\", add_special_tokens=True)).unsqueeze(0)  # Batch size 1\n",
    "        labels = torch.tensor([1]).unsqueeze(0)  # Batch size 1\n",
    "        outputs = model(input_ids, labels=labels)\n",
    "        loss, logits = outputs[:2]\n",
    "        \"\"\"\n",
    "\n",
    "        outputs = self.bert(\n",
    "            input_ids,\n",
    "            attention_mask=attention_mask,\n",
    "            token_type_ids=token_type_ids,\n",
    "            position_ids=position_ids,\n",
    "            head_mask=head_mask,\n",
    "            inputs_embeds=inputs_embeds,\n",
    "        )\n",
    "\n",
    "        pooled_output = outputs[1]\n",
    "\n",
    "        pooled_output = self.dropout(pooled_output)\n",
    "        logits = self.classifier(pooled_output)\n",
    "\n",
    "        outputs = (logits,) + outputs[2:]  # add hidden states and attention if they are here\n",
    "\n",
    "        if labels is not None:\n",
    "            if self.num_labels == 1:\n",
    "                #  We are doing regression\n",
    "                loss_fct = MSELoss()\n",
    "                loss = loss_fct(logits.view(-1), labels.view(-1))\n",
    "            else:\n",
    "                loss_fct = CrossEntropyLoss()\n",
    "                loss = loss_fct(logits.view(-1, self.num_labels), labels.view(-1))\n",
    "            outputs = (loss,) + outputs\n",
    "\n",
    "        return outputs  # (loss), logits, (hidden_states), (attentions)"
   ]
  },
  {
   "cell_type": "code",
   "execution_count": 23,
   "metadata": {
    "execution": {
     "iopub.execute_input": "2020-12-06T21:39:27.139249Z",
     "iopub.status.busy": "2020-12-06T21:39:27.138257Z",
     "iopub.status.idle": "2020-12-06T21:39:27.142249Z",
     "shell.execute_reply": "2020-12-06T21:39:27.141419Z"
    },
    "id": "PfXkq0Y3wXPy",
    "papermill": {
     "duration": 0.096719,
     "end_time": "2020-12-06T21:39:27.142395",
     "exception": false,
     "start_time": "2020-12-06T21:39:27.045676",
     "status": "completed"
    },
    "tags": []
   },
   "outputs": [],
   "source": [
    "#Or you can use\n",
    "#from transformers import BertForSequenceClassification\n",
    "\n",
    "#https://github.com/huggingface/transformers/blob/master/src/transformers/modeling_bert.py#L1107"
   ]
  },
  {
   "cell_type": "markdown",
   "metadata": {
    "id": "e67b_ZuArpaU",
    "papermill": {
     "duration": 0.088101,
     "end_time": "2020-12-06T21:39:27.320399",
     "exception": false,
     "start_time": "2020-12-06T21:39:27.232298",
     "status": "completed"
    },
    "tags": []
   },
   "source": [
    "## Data Loading functions"
   ]
  },
  {
   "cell_type": "code",
   "execution_count": 24,
   "metadata": {
    "execution": {
     "iopub.execute_input": "2020-12-06T21:39:27.548681Z",
     "iopub.status.busy": "2020-12-06T21:39:27.511803Z",
     "iopub.status.idle": "2020-12-06T21:39:27.567172Z",
     "shell.execute_reply": "2020-12-06T21:39:27.566285Z"
    },
    "id": "JFNuqw17B6EK",
    "papermill": {
     "duration": 0.158724,
     "end_time": "2020-12-06T21:39:27.567318",
     "exception": false,
     "start_time": "2020-12-06T21:39:27.408594",
     "status": "completed"
    },
    "tags": []
   },
   "outputs": [],
   "source": [
    "# Copyright 2018 The Google AI Language Team Authors and The HuggingFace Inc. team.\n",
    "# Copyright (c) 2018, NVIDIA CORPORATION.  All rights reserved.\n",
    "#\n",
    "# Licensed under the Apache License, Version 2.0 (the \"License\");\n",
    "# you may not use this file except in compliance with the License.\n",
    "# You may obtain a copy of the License at\n",
    "#\n",
    "#     http://www.apache.org/licenses/LICENSE-2.0\n",
    "#\n",
    "# Unless required by applicable law or agreed to in writing, software\n",
    "# distributed under the License is distributed on an \"AS IS\" BASIS,\n",
    "# WITHOUT WARRANTIES OR CONDITIONS OF ANY KIND, either express or implied.\n",
    "# See the License for the specific language governing permissions and\n",
    "# limitations under the License.\n",
    "\"\"\" BERT classification fine-tuning: utilities to work with GLUE tasks \"\"\"\n",
    "csv.field_size_limit(2147483647)\n",
    "\n",
    "class InputExample(object):\n",
    "    \"\"\"A single training/test example for simple sequence classification.\"\"\"\n",
    "\n",
    "    def __init__(self, guid, text_a, text_b=None, label=None):\n",
    "        \"\"\"Constructs a InputExample.\n",
    "\n",
    "        Args:\n",
    "            guid: Unique id for the example.\n",
    "            text_a: string. The untokenized text of the first sequence. For single\n",
    "            sequence tasks, only this sequence must be specified.\n",
    "            text_b: (Optional) string. The untokenized text of the second sequence.\n",
    "            Only must be specified for sequence pair tasks.\n",
    "            label: (Optional) string. The label of the example. This should be\n",
    "            specified for train and dev examples, but not for test examples.\n",
    "        \"\"\"\n",
    "        self.guid = guid\n",
    "        self.text_a = text_a\n",
    "        self.text_b = text_b\n",
    "        self.label = label\n",
    "\n",
    "\n",
    "class InputFeatures(object):\n",
    "    \"\"\"A single set of features of data.\"\"\"\n",
    "\n",
    "    def __init__(self, input_ids, input_mask, segment_ids, label_id):\n",
    "        self.input_ids = input_ids\n",
    "        self.input_mask = input_mask\n",
    "        self.segment_ids = segment_ids\n",
    "        self.label_id = label_id\n",
    "\n",
    "\n",
    "class DataProcessor(object):\n",
    "    \"\"\"Base class for data converters for sequence classification data sets.\"\"\"\n",
    "\n",
    "    def get_train_examples(self, data_dir):\n",
    "        \"\"\"Gets a collection of `InputExample`s for the train set.\"\"\"\n",
    "        raise NotImplementedError()\n",
    "\n",
    "    def get_dev_examples(self, data_dir):\n",
    "        \"\"\"Gets a collection of `InputExample`s for the dev set.\"\"\"\n",
    "        raise NotImplementedError()\n",
    "\n",
    "    def get_predict_examples(self, data_dir):\n",
    "        \"\"\"Gets a collection of `InputExample`s for the dev set.\"\"\"\n",
    "        raise NotImplementedError()\n",
    "\n",
    "    def get_labels(self):\n",
    "        \"\"\"Gets the list of labels for this data set.\"\"\"\n",
    "        raise NotImplementedError()\n",
    "\n",
    "    @classmethod\n",
    "    def _read_tsv(cls, input_file, quotechar=None):\n",
    "        \"\"\"Reads a tab separated value file.\"\"\"\n",
    "        with open(input_file, \"r\", encoding=\"utf-8-sig\") as f:\n",
    "            reader = csv.reader(f, delimiter=\"\\t\", quotechar=quotechar)\n",
    "            lines = []\n",
    "            for line in reader:\n",
    "                if sys.version_info[0] == 2:\n",
    "                    line = list(unicode(cell, 'utf-8') for cell in line)\n",
    "                lines.append(line)\n",
    "            return lines\n",
    "\n",
    "\n",
    "class BinaryProcessor(DataProcessor):\n",
    "    \"\"\"Processor for the binary data sets\"\"\"\n",
    "\n",
    "    def get_train_examples(self, data_dir , train_file_name):\n",
    "        \"\"\"See base class. file should be a tsv\"\"\"\n",
    "        return self._create_examples(\n",
    "            self._read_tsv(os.path.join(data_dir, train_file_name)), \"train\")\n",
    "\n",
    "    def get_dev_examples(self, data_dir, dev_file_name):\n",
    "        \"\"\"See base class. file should be a tsv\"\"\"\n",
    "        return self._create_examples(\n",
    "            self._read_tsv(os.path.join(data_dir, dev_file_name)), \"dev\")\n",
    "\n",
    "    def get_predict_examples(self, data_dir, train_file_name):\n",
    "        \"\"\"See base class. file should be a tsv\"\"\"\n",
    "        return self._create_examples(\n",
    "            self._read_tsv(os.path.join(data_dir, train_file_name)), \"predict\")\n",
    "\n",
    "    def get_labels(self):\n",
    "        \"\"\"See base class.\"\"\"\n",
    "        return [\"0\", \"1\"]\n",
    "\n",
    "    def _create_examples(self, lines, set_type):\n",
    "        \"\"\"Creates examples for the training and dev sets.\"\"\"\n",
    "        examples = []\n",
    "\n",
    "        if(set_type!=\"predict\"):\n",
    "            for (i, line) in enumerate(lines):\n",
    "                guid = \"%s-%s\" % (set_type, i)\n",
    "                text_a = line[3]\n",
    "                label = line[1]\n",
    "                examples.append(\n",
    "                    InputExample(guid=guid, text_a=text_a, text_b=None, label=label))\n",
    "        else:\n",
    "            for (i, line) in enumerate(lines):\n",
    "                guid = \"%s-%s\" % (set_type, i)\n",
    "                text_a = line[3]\n",
    "                label = '0'\n",
    "                examples.append(\n",
    "                    InputExample(guid=guid, text_a=text_a, text_b=None, label=label))\n",
    "        return examples\n",
    "\n",
    "\n",
    "def convert_example_to_feature(example_row, pad_token=0,\n",
    "sequence_a_segment_id=0, sequence_b_segment_id=1,\n",
    "cls_token_segment_id=1, pad_token_segment_id=0,\n",
    "mask_padding_with_zero=True, sep_token_extra=False):\n",
    "    example, label_map, max_seq_length, tokenizer, output_mode, cls_token_at_end, cls_token, sep_token, cls_token_segment_id, pad_on_left, pad_token_segment_id, sep_token_extra = example_row\n",
    "\n",
    "    tokens_a = tokenizer.tokenize(example.text_a)\n",
    "\n",
    "    tokens_b = None\n",
    "    if example.text_b:\n",
    "        tokens_b = tokenizer.tokenize(example.text_b)\n",
    "        # Modifies `tokens_a` and `tokens_b` in place so that the total\n",
    "        # length is less than the specified length.\n",
    "        # Account for [CLS], [SEP], [SEP] with \"- 3\". \" -4\" for RoBERTa.\n",
    "        special_tokens_count = 4 if sep_token_extra else 3\n",
    "        _truncate_seq_pair(tokens_a, tokens_b, max_seq_length - special_tokens_count)\n",
    "    else:\n",
    "        # Account for [CLS] and [SEP] with \"- 2\" and with \"- 3\" for RoBERTa.\n",
    "        special_tokens_count = 3 if sep_token_extra else 2\n",
    "        if len(tokens_a) > max_seq_length - special_tokens_count:\n",
    "            tokens_a = tokens_a[:(max_seq_length - special_tokens_count)]\n",
    "\n",
    "    # The convention in BERT is:\n",
    "    # (a) For sequence pairs:\n",
    "    #  tokens:   [CLS] is this jack ##son ##ville ? [SEP] no it is not . [SEP]\n",
    "    #  type_ids:   0   0  0    0    0     0       0   0   1  1  1  1   1   1\n",
    "    # (b) For single sequences:\n",
    "    #  tokens:   [CLS] the dog is hairy . [SEP]\n",
    "    #  type_ids:   0   0   0   0  0     0   0\n",
    "    #\n",
    "    # Where \"type_ids\" are used to indicate whether this is the first\n",
    "    # sequence or the second sequence. The embedding vectors for `type=0` and\n",
    "    # `type=1` were learned during pre-training and are added to the wordpiece\n",
    "    # embedding vector (and position vector). This is not *strictly* necessary\n",
    "    # since the [SEP] token unambiguously separates the sequences, but it makes\n",
    "    # it easier for the model to learn the concept of sequences.\n",
    "    #\n",
    "    # For classification tasks, the first vector (corresponding to [CLS]) is\n",
    "    # used as as the \"sentence vector\". Note that this only makes sense because\n",
    "    # the entire model is fine-tuned.\n",
    "    tokens = tokens_a + [sep_token]\n",
    "    segment_ids = [sequence_a_segment_id] * len(tokens)\n",
    "\n",
    "    if tokens_b:\n",
    "        tokens += tokens_b + [sep_token]\n",
    "        segment_ids += [sequence_b_segment_id] * (len(tokens_b) + 1)\n",
    "\n",
    "    if cls_token_at_end:\n",
    "        tokens = tokens + [cls_token]\n",
    "        segment_ids = segment_ids + [cls_token_segment_id]\n",
    "    else:\n",
    "        tokens = [cls_token] + tokens\n",
    "        segment_ids = [cls_token_segment_id] + segment_ids\n",
    "\n",
    "    input_ids = tokenizer.convert_tokens_to_ids(tokens)\n",
    "\n",
    "    # The mask has 1 for real tokens and 0 for padding tokens. Only real\n",
    "    # tokens are attended to.\n",
    "    input_mask = [1 if mask_padding_with_zero else 0] * len(input_ids)\n",
    "\n",
    "\n",
    "    # Zero-pad up to the sequence length.\n",
    "    padding_length = max_seq_length - len(input_ids)\n",
    "    if pad_on_left:\n",
    "        input_ids = ([pad_token] * padding_length) + input_ids\n",
    "        input_mask = ([0 if mask_padding_with_zero else 1] * padding_length) + input_mask\n",
    "        segment_ids = ([pad_token_segment_id] * padding_length) + segment_ids\n",
    "    else:\n",
    "        input_ids = input_ids + ([pad_token] * padding_length)\n",
    "        input_mask = input_mask + ([0 if mask_padding_with_zero else 1] * padding_length)\n",
    "        segment_ids = segment_ids + ([pad_token_segment_id] * padding_length)\n",
    "\n",
    "    assert len(input_ids) == max_seq_length\n",
    "    assert len(input_mask) == max_seq_length\n",
    "    assert len(segment_ids) == max_seq_length\n",
    "\n",
    "    if output_mode == \"classification\":\n",
    "        label_id = label_map[example.label]\n",
    "    elif output_mode == \"regression\":\n",
    "        label_id = float(example.label)\n",
    "    else:\n",
    "        raise KeyError(output_mode)\n",
    "\n",
    "    return InputFeatures(input_ids=input_ids,\n",
    "                        input_mask=input_mask,\n",
    "                        segment_ids=segment_ids,\n",
    "                        label_id=label_id)\n",
    "  \n",
    "\n",
    "def convert_examples_to_features(examples, label_list, max_seq_length,\n",
    "                                 tokenizer, output_mode,\n",
    "                                 cls_token_at_end=False, sep_token_extra=False, pad_on_left=False,\n",
    "                                 cls_token='[CLS]', sep_token='[SEP]', pad_token=0,\n",
    "                                 sequence_a_segment_id=0, sequence_b_segment_id=1,\n",
    "                                 cls_token_segment_id=1, pad_token_segment_id=0,\n",
    "                                 mask_padding_with_zero=True):\n",
    "    \"\"\" Loads a data file into a list of `InputBatch`s\n",
    "        `cls_token_at_end` define the location of the CLS token:\n",
    "            - False (Default, BERT/XLM pattern): [CLS] + A + [SEP] + B + [SEP]\n",
    "            - True (XLNet/GPT pattern): A + [SEP] + B + [SEP] + [CLS]\n",
    "        `cls_token_segment_id` define the segment id associated to the CLS token (0 for BERT, 2 for XLNet)\n",
    "    \"\"\"\n",
    "\n",
    "    label_map = {label : i for i, label in enumerate(label_list)}\n",
    "\n",
    "    examples = [(example, label_map, max_seq_length, tokenizer, output_mode, cls_token_at_end, cls_token, sep_token, cls_token_segment_id, pad_on_left, pad_token_segment_id, sep_token_extra) for example in examples]\n",
    "\n",
    "    process_count = cpu_count()\n",
    "\n",
    "    with Pool(process_count) as p:\n",
    "        features = list(tqdm(p.imap(convert_example_to_feature, examples, chunksize=500), total=len(examples)))\n",
    "\n",
    "    return features\n",
    "\n",
    "\n",
    "def _truncate_seq_pair(tokens_a, tokens_b, max_length):\n",
    "    \"\"\"Truncates a sequence pair in place to the maximum length.\"\"\"\n",
    "\n",
    "    # This is a simple heuristic which will always truncate the longer sequence\n",
    "    # one token at a time. This makes more sense than truncating an equal percent\n",
    "    # of tokens from each, since if one sequence is very short then each token\n",
    "    # that's truncated likely contains more information than a longer sequence.\n",
    "    while True:\n",
    "        total_length = len(tokens_a) + len(tokens_b)\n",
    "        if total_length <= max_length:\n",
    "            break\n",
    "        if len(tokens_a) > len(tokens_b):\n",
    "            tokens_a.pop()\n",
    "        else:\n",
    "            tokens_b.pop()\n",
    "\n",
    "\n",
    "processors = {\n",
    "    \"binary\": BinaryProcessor\n",
    "}\n",
    "\n",
    "output_modes = {\n",
    "    \"binary\": \"classification\"\n",
    "}"
   ]
  },
  {
   "cell_type": "code",
   "execution_count": 25,
   "metadata": {
    "execution": {
     "iopub.execute_input": "2020-12-06T21:39:27.771104Z",
     "iopub.status.busy": "2020-12-06T21:39:27.770199Z",
     "iopub.status.idle": "2020-12-06T21:39:27.774478Z",
     "shell.execute_reply": "2020-12-06T21:39:27.773763Z"
    },
    "id": "P5PBZJ03r7LN",
    "papermill": {
     "duration": 0.119244,
     "end_time": "2020-12-06T21:39:27.774637",
     "exception": false,
     "start_time": "2020-12-06T21:39:27.655393",
     "status": "completed"
    },
    "tags": []
   },
   "outputs": [],
   "source": [
    "def load_and_cache_examples(task, tokenizer, mode=\"train\"):\n",
    "    processor = processors[task]()\n",
    "    output_mode = args['output_mode']\n",
    "    \n",
    "    cached_features_file = os.path.join(args['data_dir'], f\"cached_{mode}_{args['cache_dir']}_{args['max_seq_length']}_{task}\")\n",
    "    \n",
    "    if os.path.exists(cached_features_file) and not args['reprocess_input_data']:\n",
    "        logger.info(\"Loading features from cached file %s\", cached_features_file)\n",
    "        features = torch.load(cached_features_file)\n",
    "               \n",
    "    else:\n",
    "        logger.info(\"Creating features from dataset file at %s\", args['data_dir'])\n",
    "        label_list = processor.get_labels()\n",
    "        if mode==\"train\":\n",
    "          examples=processor.get_train_examples(args['data_dir'],args['train_file_name']);\n",
    "        if mode==\"dev\":\n",
    "          examples=processor.get_dev_examples(args['data_dir'],args['dev_file_name']);\n",
    "        if mode==\"predict\":\n",
    "          examples=processor.get_predict_examples(args['data_dir'],args['pred_file_name'])\n",
    "        \n",
    "        if __name__ == \"__main__\":\n",
    "            features = convert_examples_to_features(examples, label_list, args['max_seq_length'], tokenizer, output_mode,\n",
    "                cls_token_at_end=bool(args['model_type'] in ['xlnet']),            # xlnet has a cls token at the end\n",
    "                cls_token=tokenizer.cls_token,\n",
    "                cls_token_segment_id=2 if args['model_type'] in ['xlnet'] else 0,\n",
    "                sep_token=tokenizer.sep_token,\n",
    "                sep_token_extra=bool(args['model_type'] in ['roberta']),           # roberta uses an extra separator b/w pairs of sentences, cf. github.com/pytorch/fairseq/commit/1684e166e3da03f5b600dbb7855cb98ddfcd0805\n",
    "                pad_on_left=bool(args['model_type'] in ['xlnet']),                 # pad on the left for xlnet\n",
    "                pad_token=tokenizer.convert_tokens_to_ids([tokenizer.pad_token])[0],\n",
    "                pad_token_segment_id=4 if args['model_type'] in ['xlnet'] else 0)\n",
    "        \n",
    "        logger.info(\"Saving features into cached file %s\", cached_features_file)\n",
    "        torch.save(features, cached_features_file)\n",
    "        \n",
    "    all_input_ids = torch.tensor([f.input_ids for f in features], dtype=torch.long)\n",
    "    all_input_mask = torch.tensor([f.input_mask for f in features], dtype=torch.long)\n",
    "    all_segment_ids = torch.tensor([f.segment_ids for f in features], dtype=torch.long)\n",
    "    if output_mode == \"classification\":\n",
    "        all_label_ids = torch.tensor([f.label_id for f in features], dtype=torch.long)\n",
    "    elif output_mode == \"regression\":\n",
    "        all_label_ids = torch.tensor([f.label_id for f in features], dtype=torch.float)\n",
    "\n",
    "    dataset = TensorDataset(all_input_ids, all_input_mask, all_segment_ids, all_label_ids)\n",
    "    return dataset"
   ]
  },
  {
   "cell_type": "markdown",
   "metadata": {
    "id": "vkumWt62xS_C",
    "papermill": {
     "duration": 0.08768,
     "end_time": "2020-12-06T21:39:27.950566",
     "exception": false,
     "start_time": "2020-12-06T21:39:27.862886",
     "status": "completed"
    },
    "tags": []
   },
   "source": [
    "##Training Function"
   ]
  },
  {
   "cell_type": "code",
   "execution_count": 26,
   "metadata": {
    "execution": {
     "iopub.execute_input": "2020-12-06T21:39:28.146816Z",
     "iopub.status.busy": "2020-12-06T21:39:28.140547Z",
     "iopub.status.idle": "2020-12-06T21:39:28.175364Z",
     "shell.execute_reply": "2020-12-06T21:39:28.174638Z"
    },
    "id": "kdBvUSx6xSkb",
    "papermill": {
     "duration": 0.134612,
     "end_time": "2020-12-06T21:39:28.175538",
     "exception": false,
     "start_time": "2020-12-06T21:39:28.040926",
     "status": "completed"
    },
    "tags": []
   },
   "outputs": [],
   "source": [
    "def train(model, tokenizer):\n",
    "    tb_writer = SummaryWriter(log_dir=f\"{args['log_dir']}/{args['notes']}/seq_len_{args['max_seq_length']}_BS_{args['train_batch_size']}_lr_{args['learning_rate']}\")\n",
    "    \n",
    "    train_dataset = load_and_cache_examples(args['task_name'], tokenizer , mode=\"train\")\n",
    "    train_sampler = RandomSampler(train_dataset)\n",
    "    train_dataloader = DataLoader(train_dataset, sampler=train_sampler, batch_size=args['train_batch_size'])\n",
    "    \n",
    "    num_training_steps = len(train_dataloader) * args['num_train_epochs']\n",
    "    \n",
    "    # Prepare optimizer and schedule (linear warmup and decay)\n",
    "    no_decay = ['bias', 'LayerNorm.weight']\n",
    "\n",
    "    #model.named_parameters(): returns the name of the parameter as well as the parameter itself\n",
    "    #'bias', 'LayerNorm.weight' should have zero decay\n",
    "    optimizer_grouped_parameters = [\n",
    "        {'params': [param for name, param in model.named_parameters() if not any(nd in name for nd in no_decay)],\n",
    "         'weight_decay': args['weight_decay'],\n",
    "        },\n",
    "        {'params': [param for name, param in model.named_parameters() if any(nd in name for nd in no_decay)],\n",
    "         'weight_decay': 0.0,\n",
    "        }\n",
    "        ]\n",
    "    \n",
    "    #correct_bias (bool): can be set to False to avoid correcting bias in Adam (e.g. like in Bert TF repository). Default True.\n",
    "    optimizer = AdamW(optimizer_grouped_parameters, lr=args['learning_rate'], correct_bias=True)\n",
    "    # PyTorch scheduler\n",
    "    # https://huggingface.co/transformers/main_classes/optimizer_schedules.html\n",
    "    scheduler = get_linear_schedule_with_warmup(optimizer, num_warmup_steps=args['warmup_steps'], num_training_steps=num_training_steps)     \n",
    "\n",
    "    if args['fp16']:\n",
    "        try:\n",
    "            from apex import amp\n",
    "        except ImportError:\n",
    "            raise ImportError(\"Please install apex from https://www.github.com/nvidia/apex to use fp16 training.\")\n",
    "        model, optimizer = amp.initialize(model, optimizer, opt_level=args['fp16_opt_level'])\n",
    "        \n",
    "    logger.info(\"***** Running training *****\")\n",
    "    logger.info(\"  Num examples = %d\", len(train_dataset))\n",
    "    logger.info(\"  Num Epochs = %d\", args['num_train_epochs'])\n",
    "    logger.info(\"  Total train batch size  = %d\", args['train_batch_size'])\n",
    "    logger.info(\"  Total optimization steps = %d\", num_training_steps)\n",
    "\n",
    "    global_step = 0\n",
    "    tr_loss, logging_loss = 0.0, 0.0\n",
    "    model.zero_grad()\n",
    "\n",
    "    train_iterator = trange(int(args['num_train_epochs']), desc=\"Epoch\")    \n",
    "    for epoch in train_iterator:\n",
    "        epoch_iterator = tqdm_notebook(train_dataloader, desc=\"Iteration\")\n",
    "        for step, batch in enumerate(epoch_iterator):\n",
    "\n",
    "            #model.train() tells your model that you are training the model.\n",
    "            #So effectively layers like dropout, batchnorm etc. which behave different on the train and test procedures know what is going on and hence can behave accordingly\n",
    "            model.train()\n",
    "\n",
    "            batch = tuple(t.to(device) for t in batch)\n",
    "\n",
    "            inputs = {'input_ids':      batch[0],\n",
    "                      'attention_mask': batch[1],\n",
    "                      'token_type_ids': batch[2] if args['model_type'] in ['bert', 'xlnet'] else None,  # XLM don't use segment_ids\n",
    "                      'labels':         batch[3]}\n",
    "\n",
    "            outputs = model(**inputs)\n",
    "\n",
    "            loss = outputs[0]  # model outputs are always tuple in transformers (see doc)\n",
    "            print(\"\\r%f\" % loss, end='')\n",
    "\n",
    "            if args['fp16']:\n",
    "                with amp.scale_loss(loss, optimizer) as scaled_loss:\n",
    "                    scaled_loss.backward()\n",
    "                torch.nn.utils.clip_grad_norm_(amp.master_params(optimizer), args['max_grad_norm'])                \n",
    "            else:\n",
    "                loss.backward()\n",
    "                torch.nn.utils.clip_grad_norm_(model.parameters(), args['max_grad_norm'])\n",
    "\n",
    "            tr_loss += loss.item() #trainning loss\n",
    "                \n",
    "            optimizer.step()\n",
    "            scheduler.step()  # Update learning rate schedule\n",
    "            model.zero_grad()\n",
    "            global_step += 1\n",
    "\n",
    "            if args['logging_steps'] > 0 and global_step % args['logging_steps'] == 0:\n",
    "                # Log metrics\n",
    "                tb_writer.add_scalar('lr', scheduler.get_lr()[0], global_step)\n",
    "                tb_writer.add_scalar('loss', (tr_loss - logging_loss)/args['logging_steps'], global_step)\n",
    "                logging_loss = tr_loss\n",
    "\n",
    "            if args['save_steps'] > 0 and global_step % args['save_steps'] == 0:\n",
    "                # Save model checkpoint\n",
    "                output_dir = os.path.join(args['output_dir'], 'checkpoint-{}'.format(global_step))\n",
    "                if not os.path.exists(output_dir):\n",
    "                    os.makedirs(output_dir)\n",
    "                model_to_save = model.module if hasattr(model, 'module') else model  # Take care of distributed/parallel training\n",
    "                model_to_save.save_pretrained(output_dir)\n",
    "                logger.info(\"Saving model checkpoint to %s\", output_dir)\n",
    "\n",
    "        if args['evaluate_during_training']:  # Only evaluate when single GPU otherwise metrics may not average well\n",
    "            results = evaluate(model, tokenizer)\n",
    "            for key, value in results.items():\n",
    "                tb_writer.add_scalar('eval_{}'.format(key), value, epoch)\n",
    "\n",
    "    return global_step, tr_loss / global_step"
   ]
  },
  {
   "cell_type": "markdown",
   "metadata": {
    "id": "eS9HQOG74Dje",
    "papermill": {
     "duration": 0.088894,
     "end_time": "2020-12-06T21:39:28.354214",
     "exception": false,
     "start_time": "2020-12-06T21:39:28.265320",
     "status": "completed"
    },
    "tags": []
   },
   "source": [
    "## Evaluate Function and Metrics"
   ]
  },
  {
   "cell_type": "code",
   "execution_count": 27,
   "metadata": {
    "execution": {
     "iopub.execute_input": "2020-12-06T21:39:28.561874Z",
     "iopub.status.busy": "2020-12-06T21:39:28.540422Z",
     "iopub.status.idle": "2020-12-06T21:39:28.573738Z",
     "shell.execute_reply": "2020-12-06T21:39:28.573047Z"
    },
    "id": "EzrrcSYZ4GBV",
    "papermill": {
     "duration": 0.131334,
     "end_time": "2020-12-06T21:39:28.573925",
     "exception": false,
     "start_time": "2020-12-06T21:39:28.442591",
     "status": "completed"
    },
    "tags": []
   },
   "outputs": [],
   "source": [
    "from sklearn.metrics import (mean_squared_error, matthews_corrcoef, confusion_matrix,\n",
    "                             f1_score, precision_score , recall_score , accuracy_score)\n",
    "from scipy.stats import pearsonr\n",
    "from sklearn.metrics import confusion_matrix\n",
    "from sklearn.metrics import classification_report\n",
    "\n",
    "def get_mismatched(labels, preds):\n",
    "    mismatched = labels != preds\n",
    "    examples = processor.get_dev_examples(args['data_dir'],args['dev_file_name'])\n",
    "    wrong = [i for (i, v) in zip(examples, mismatched) if v]    \n",
    "    return wrong\n",
    "\n",
    "def get_eval_report(labels, preds):\n",
    "    mcc = matthews_corrcoef(labels, preds)\n",
    "    tn, fp, fn, tp = confusion_matrix(labels, preds).ravel()\n",
    "    return {\n",
    "        \"mcc\": mcc,\n",
    "        \"tp\": tp,\n",
    "        \"tn\": tn,\n",
    "        \"fp\": fp,\n",
    "        \"fn\": fn\n",
    "    }, get_mismatched(labels, preds)\n",
    "\n",
    "def compute_metrics(task_name, preds, labels):\n",
    "\n",
    "    assert len(preds) == len(labels)\n",
    "    print(classification_report(labels,preds))\n",
    "    print(confusion_matrix(labels,preds))\n",
    "\n",
    "    f1_Positive = f1_score(labels,preds,pos_label=1,average='binary')\n",
    "    f1_Negative = f1_score(labels,preds,pos_label=0,average='binary')\n",
    "    macro_f1 = f1_score(labels,preds,average='macro')\n",
    "    macro_precision = precision_score(labels,preds,average='macro')\n",
    "    macro_recall = recall_score(labels,preds,average='macro')\n",
    "    acc = accuracy_score(labels,preds)\n",
    "    return {\n",
    "        'f1_pos': f1_Positive,\n",
    "        'f1_neg': f1_Negative,\n",
    "        'macro_f1' : macro_f1, \n",
    "        'macro_precision': macro_precision,\n",
    "        'macro_recall': macro_recall,\n",
    "        'accuracy': acc\n",
    "    }\n",
    "    #return get_eval_report(labels, preds)\n",
    "\n",
    "def evaluate(model, tokenizer, prefix=\"\"):\n",
    "    \n",
    "    eval_output_dir = args['output_dir']\n",
    "\n",
    "    results = {}\n",
    "    EVAL_TASK = args['task_name']\n",
    "\n",
    "    eval_dataset = load_and_cache_examples(EVAL_TASK, tokenizer, mode=\"dev\")\n",
    "    if not os.path.exists(eval_output_dir):\n",
    "        os.makedirs(eval_output_dir)\n",
    "\n",
    "    eval_sampler = SequentialSampler(eval_dataset)\n",
    "    eval_dataloader = DataLoader(eval_dataset, sampler=eval_sampler, batch_size=args['eval_batch_size'])\n",
    "\n",
    "    # Eval!\n",
    "    logger.info(\"***** Running evaluation {} *****\".format(prefix))\n",
    "    logger.info(\"  Num examples = %d\", len(eval_dataset))\n",
    "    logger.info(\"  Batch size = %d\", args['eval_batch_size'])\n",
    "    eval_loss = 0.0\n",
    "    nb_eval_steps = 0\n",
    "    preds = None\n",
    "    out_label_ids = None\n",
    "    for batch in tqdm_notebook(eval_dataloader, desc=\"Evaluating\"):\n",
    "        model.eval()\n",
    "        batch = tuple(t.to(device) for t in batch)\n",
    "\n",
    "        with torch.no_grad():\n",
    "            inputs = {'input_ids':      batch[0],\n",
    "                      'attention_mask': batch[1],\n",
    "                      'token_type_ids': batch[2] if args['model_type'] in ['bert', 'xlnet'] else None,  # XLM don't use segment_ids\n",
    "                      'labels':         batch[3]}\n",
    "            outputs = model(**inputs)\n",
    "            tmp_eval_loss, logits = outputs[:2]\n",
    "\n",
    "            eval_loss += tmp_eval_loss.mean().item()\n",
    "        nb_eval_steps += 1\n",
    "\n",
    "        if preds is None:\n",
    "            preds = logits.detach().cpu().numpy()\n",
    "            out_label_ids = inputs['labels'].detach().cpu().numpy()\n",
    "        else:\n",
    "            preds = np.append(preds, logits.detach().cpu().numpy(), axis=0)\n",
    "            out_label_ids = np.append(out_label_ids, inputs['labels'].detach().cpu().numpy(), axis=0)\n",
    "\n",
    "    eval_loss = eval_loss / nb_eval_steps\n",
    "    if args['output_mode'] == \"classification\":\n",
    "        preds = np.argmax(preds, axis=1)\n",
    "    elif args['output_mode'] == \"regression\":\n",
    "        preds = np.squeeze(preds)\n",
    "\n",
    "    #result, wrong = compute_metrics(EVAL_TASK, preds, out_label_ids)\n",
    "    results = compute_metrics(EVAL_TASK, preds, out_label_ids)\n",
    "    \n",
    "    return results#, wrong"
   ]
  },
  {
   "cell_type": "markdown",
   "metadata": {
    "id": "OrGwkJPN5UFJ",
    "papermill": {
     "duration": 0.089783,
     "end_time": "2020-12-06T21:39:28.754401",
     "exception": false,
     "start_time": "2020-12-06T21:39:28.664618",
     "status": "completed"
    },
    "tags": []
   },
   "source": [
    "##Predict function"
   ]
  },
  {
   "cell_type": "code",
   "execution_count": 28,
   "metadata": {
    "execution": {
     "iopub.execute_input": "2020-12-06T21:39:28.950670Z",
     "iopub.status.busy": "2020-12-06T21:39:28.949593Z",
     "iopub.status.idle": "2020-12-06T21:39:28.955656Z",
     "shell.execute_reply": "2020-12-06T21:39:28.955035Z"
    },
    "id": "c1-esYso5Wpa",
    "papermill": {
     "duration": 0.111385,
     "end_time": "2020-12-06T21:39:28.955805",
     "exception": false,
     "start_time": "2020-12-06T21:39:28.844420",
     "status": "completed"
    },
    "tags": []
   },
   "outputs": [
    {
     "ename": "IndentationError",
     "evalue": "expected an indented block (<ipython-input-28-01ea7dbaa827>, line 9)",
     "output_type": "error",
     "traceback": [
      "\u001b[0;36m  File \u001b[0;32m\"<ipython-input-28-01ea7dbaa827>\"\u001b[0;36m, line \u001b[0;32m9\u001b[0m\n\u001b[0;31m    os.makedirs(pred_output_dir)\u001b[0m\n\u001b[0m     ^\u001b[0m\n\u001b[0;31mIndentationError\u001b[0m\u001b[0;31m:\u001b[0m expected an indented block\n"
     ]
    }
   ],
   "source": [
    "def predict(model, tokenizer, prefix=\"\"):\n",
    "    pred_output_dir = args['output_dir']\n",
    "  \n",
    "    results={}\n",
    "    PRED_TASK = args['task_name']\n",
    "  \n",
    "    pred_dataset = load_and_cache_examples(PRED_TASK, tokenizer, mode='predict')\n",
    "    if not os.path.exists(pred_output_dir):\n",
    "    os.makedirs(pred_output_dir)\n",
    "    \n",
    "  \n",
    "    pred_sampler = SequentialSampler(pred_dataset)\n",
    "    pred_dataloader = DataLoader(pred_dataset, sampler=pred_sampler, batch_size=args['eval_batch_size'])\n",
    "  \n",
    "    logger.info(\"***** Running prediction {} *****\".format(prefix))\n",
    "    logger.info(\"  Num examples = %d\", len(pred_dataset))\n",
    "    logger.info(\"  Batch size = %d\", args['eval_batch_size'])\n",
    "  \n",
    "    preds = None\n",
    "    for batch in pred_dataloader:\n",
    "    with torch.no_grad():\n",
    "        batch = tuple(t.to(device) for t in batch)\n",
    "        inputs = {'input_ids': batch[0],'attention_mask': batch[1],'token_type_ids': batch[2],'labels': batch[3]}\n",
    "      \n",
    "        outputs = model(**inputs)\n",
    "        _, logits = outputs[:2]\n",
    "    if preds is None:\n",
    "        preds = logits.detach().cpu().numpy()\n",
    "    else:\n",
    "        preds = np.append(preds, logits.detach().cpu().numpy(), axis=0)\n",
    "\n",
    "    preds = np.argmax(preds, axis=1)\n",
    "      \n",
    "    return preds"
   ]
  },
  {
   "cell_type": "markdown",
   "metadata": {
    "id": "gFxxpBqN5gxv",
    "papermill": {
     "duration": 0.089792,
     "end_time": "2020-12-06T21:39:29.136187",
     "exception": false,
     "start_time": "2020-12-06T21:39:29.046395",
     "status": "completed"
    },
    "tags": []
   },
   "source": [
    "##Define the Model Paramaters"
   ]
  },
  {
   "cell_type": "code",
   "execution_count": 29,
   "metadata": {
    "execution": {
     "iopub.execute_input": "2020-12-06T21:39:29.334808Z",
     "iopub.status.busy": "2020-12-06T21:39:29.330398Z",
     "iopub.status.idle": "2020-12-06T21:39:30.077101Z",
     "shell.execute_reply": "2020-12-06T21:39:30.076228Z"
    },
    "id": "z5c41jkn5qV-",
    "outputId": "305e3903-d58e-4772-e48e-9e954ebcc4a1",
    "papermill": {
     "duration": 0.850984,
     "end_time": "2020-12-06T21:39:30.077249",
     "exception": false,
     "start_time": "2020-12-06T21:39:29.226265",
     "status": "completed"
    },
    "tags": []
   },
   "outputs": [],
   "source": [
    "args = {\n",
    "    'data_dir': 'data/',\n",
    "    'train_file_name': 'train.tsv',\n",
    "    'dev_file_name': 'dev.tsv',\n",
    "    'pred_file_name': 'dev.tsv',\n",
    "    'model_type':  'bert',\n",
    "    'model_name': 'aubmindlab/bert-base-arabert',\n",
    "    'task_name': 'binary',\n",
    "    'output_dir': 'outputs_bert/',\n",
    "    'cache_dir': 'cache',\n",
    "    'do_train': True,\n",
    "    'do_eval': True,\n",
    "    'fp16': False,\n",
    "    'fp16_opt_level': 'O1',\n",
    "    'max_seq_length': 128,\n",
    "    'output_mode': 'classification',\n",
    "    'train_batch_size': 16,\n",
    "    'eval_batch_size': 32,\n",
    "    'num_train_epochs': 1,\n",
    "    'weight_decay': 0,\n",
    "    'learning_rate': 2e-5,\n",
    "    'adam_epsilon': 1e-8,\n",
    "    'warmup_steps': 0,\n",
    "    'max_grad_norm': 1.0,\n",
    "    'log_dir':'/logs',\n",
    "    'logging_steps': 0,\n",
    "    'evaluate_during_training': True,\n",
    "    'save_steps': 90,\n",
    "    'eval_all_checkpoints': True,\n",
    "    'overwrite_output_dir': True,\n",
    "    'reprocess_input_data': False,\n",
    "    'notes': 'AJGT_arabert'\n",
    "}\n",
    "with open('args.json', 'w') as f:\n",
    "    json.dump(args, f)\n",
    "\n",
    "!mkdir ./{args['log_dir']}"
   ]
  },
  {
   "cell_type": "markdown",
   "metadata": {
    "id": "js_tOXy66_Mj",
    "papermill": {
     "duration": 0.088205,
     "end_time": "2020-12-06T21:39:30.330127",
     "exception": false,
     "start_time": "2020-12-06T21:39:30.241922",
     "status": "completed"
    },
    "tags": []
   },
   "source": [
    "##Creating and Configure Model"
   ]
  },
  {
   "cell_type": "code",
   "execution_count": 30,
   "metadata": {
    "execution": {
     "iopub.execute_input": "2020-12-06T21:39:30.518967Z",
     "iopub.status.busy": "2020-12-06T21:39:30.517954Z",
     "iopub.status.idle": "2020-12-06T21:39:30.521214Z",
     "shell.execute_reply": "2020-12-06T21:39:30.520567Z"
    },
    "id": "BRCYsH3v64Cx",
    "papermill": {
     "duration": 0.101291,
     "end_time": "2020-12-06T21:39:30.521357",
     "exception": false,
     "start_time": "2020-12-06T21:39:30.420066",
     "status": "completed"
    },
    "tags": []
   },
   "outputs": [],
   "source": [
    "MODEL_CLASSES = {\n",
    "    'bert': (BertConfig, BertForSequenceClassification, BertTokenizer),\n",
    "    #'xlnet': (XLNetConfig, XLNetForSequenceClassification, XLNetTokenizer),\n",
    "    #'xlm': (XLMConfig, XLMForSequenceClassification, XLMTokenizer),\n",
    "    #'roberta': (RobertaConfig, RobertaForSequenceClassification, RobertaTokenizer)\n",
    "}\n",
    "config_class, model_class, tokenizer_class = MODEL_CLASSES[args['model_type']]"
   ]
  },
  {
   "cell_type": "code",
   "execution_count": 31,
   "metadata": {
    "execution": {
     "iopub.execute_input": "2020-12-06T21:39:30.708591Z",
     "iopub.status.busy": "2020-12-06T21:39:30.707751Z",
     "iopub.status.idle": "2020-12-06T21:39:58.949428Z",
     "shell.execute_reply": "2020-12-06T21:39:58.948712Z"
    },
    "id": "ngQs1IdY7Wdi",
    "outputId": "9296d8e8-aed3-4e75-9422-87bdcbc371f5",
    "papermill": {
     "duration": 28.339365,
     "end_time": "2020-12-06T21:39:58.949577",
     "exception": false,
     "start_time": "2020-12-06T21:39:30.610212",
     "status": "completed"
    },
    "tags": []
   },
   "outputs": [
    {
     "data": {
      "application/vnd.jupyter.widget-view+json": {
       "model_id": "34fb7beb860f4d2192908cbd114a999d",
       "version_major": 2,
       "version_minor": 0
      },
      "text/plain": [
       "HBox(children=(FloatProgress(value=0.0, description='Downloading', max=572.0, style=ProgressStyle(description_…"
      ]
     },
     "metadata": {},
     "output_type": "display_data"
    },
    {
     "name": "stdout",
     "output_type": "stream",
     "text": [
      "\n"
     ]
    },
    {
     "data": {
      "application/vnd.jupyter.widget-view+json": {
       "model_id": "370aae6dc1be44569da0e6a97fa66656",
       "version_major": 2,
       "version_minor": 0
      },
      "text/plain": [
       "HBox(children=(FloatProgress(value=0.0, description='Downloading', max=543450661.0, style=ProgressStyle(descri…"
      ]
     },
     "metadata": {},
     "output_type": "display_data"
    },
    {
     "name": "stdout",
     "output_type": "stream",
     "text": [
      "\n"
     ]
    },
    {
     "data": {
      "application/vnd.jupyter.widget-view+json": {
       "model_id": "2673f7eb53734dcf9277382698de6135",
       "version_major": 2,
       "version_minor": 0
      },
      "text/plain": [
       "HBox(children=(FloatProgress(value=0.0, description='Downloading', max=717153.0, style=ProgressStyle(descripti…"
      ]
     },
     "metadata": {},
     "output_type": "display_data"
    },
    {
     "name": "stdout",
     "output_type": "stream",
     "text": [
      "\n"
     ]
    },
    {
     "data": {
      "application/vnd.jupyter.widget-view+json": {
       "model_id": "bc4a25c2c96c40dda1d748d01a8b8374",
       "version_major": 2,
       "version_minor": 0
      },
      "text/plain": [
       "HBox(children=(FloatProgress(value=0.0, description='Downloading', max=112.0, style=ProgressStyle(description_…"
      ]
     },
     "metadata": {},
     "output_type": "display_data"
    },
    {
     "name": "stdout",
     "output_type": "stream",
     "text": [
      "\n"
     ]
    },
    {
     "data": {
      "application/vnd.jupyter.widget-view+json": {
       "model_id": "3ae6f67b66ef480196153c64e216d8b4",
       "version_major": 2,
       "version_minor": 0
      },
      "text/plain": [
       "HBox(children=(FloatProgress(value=0.0, description='Downloading', max=406.0, style=ProgressStyle(description_…"
      ]
     },
     "metadata": {},
     "output_type": "display_data"
    },
    {
     "name": "stdout",
     "output_type": "stream",
     "text": [
      "\n"
     ]
    }
   ],
   "source": [
    "#https://github.com/huggingface/transformers/blob/master/src/transformers/configuration_bert.py#L52\n",
    "config = config_class.from_pretrained(args['model_name'], num_labels=2, finetuning_task=args['task_name'])\n",
    "\n",
    "model = model_class.from_pretrained(args['model_name'], output_attentions=True)\n",
    "model.to(device)\n",
    "\n",
    "#https://github.com/huggingface/transformers/blob/master/src/transformers/tokenization_bert.py#L119\n",
    "tokenizer = tokenizer_class.from_pretrained(args['model_name'],\n",
    "    do_lower_case=False,\n",
    "    do_basic_tokenize=True,\n",
    "    never_split=never_split_tokens)"
   ]
  },
  {
   "cell_type": "code",
   "execution_count": 32,
   "metadata": {
    "execution": {
     "iopub.execute_input": "2020-12-06T21:39:59.191938Z",
     "iopub.status.busy": "2020-12-06T21:39:59.190697Z",
     "iopub.status.idle": "2020-12-06T21:39:59.202831Z",
     "shell.execute_reply": "2020-12-06T21:39:59.201642Z"
    },
    "id": "ZDdERTTg_NqH",
    "outputId": "d4267f25-d226-43eb-d87a-cb60bacef0d7",
    "papermill": {
     "duration": 0.147808,
     "end_time": "2020-12-06T21:39:59.203155",
     "exception": false,
     "start_time": "2020-12-06T21:39:59.055347",
     "status": "completed"
    },
    "tags": []
   },
   "outputs": [
    {
     "name": "stdout",
     "output_type": "stream",
     "text": [
      "['لل+', '+كم', '+ان', '+ي', '+ه', '[بريد]', 'س+', '+كما', 'ب+', '+ون', '+ك', '+نا', 'ك+', '+هن', '+هما', 'ال+', '+ات', 'ف+', '+ها', 'و+', '+ن', '+ة', '[رابط]', '[مستخدم]', '+ا', '+ت', '+ين', '+هم', '+وا', '+كن', 'ل+']\n"
     ]
    }
   ],
   "source": [
    "print(never_split_tokens)"
   ]
  },
  {
   "cell_type": "code",
   "execution_count": 33,
   "metadata": {
    "execution": {
     "iopub.execute_input": "2020-12-06T21:39:59.455879Z",
     "iopub.status.busy": "2020-12-06T21:39:59.454570Z",
     "iopub.status.idle": "2020-12-06T21:39:59.461281Z",
     "shell.execute_reply": "2020-12-06T21:39:59.461968Z"
    },
    "id": "1pgLVW6i_fxs",
    "outputId": "8f141681-3739-461f-a3ba-ef83f29188d1",
    "papermill": {
     "duration": 0.140393,
     "end_time": "2020-12-06T21:39:59.462179",
     "exception": false,
     "start_time": "2020-12-06T21:39:59.321786",
     "status": "completed"
    },
    "tags": []
   },
   "outputs": [
    {
     "name": "stdout",
     "output_type": "stream",
     "text": [
      "Original text:  ولن نبالغ إذا قلنا إن هاتف أو كمبيوتر المكتب في زمننا هذا ضروري\n",
      "Preprocessed text:  ولن نبالغ إذا قلنا إن هاتف أو كمبيوتر المكتب في زمننا هذا ضروري\n",
      "Tokenized text:  ['و', '##ل', '##ن', 'نبال', '##غ', 'إذا', 'قل', '##نا', 'إن', 'هاتف', 'أو', 'كمبيوتر', 'ال', '##مكتب', 'في', 'زمن', '##نا', 'هذا', 'ضروري']\n"
     ]
    }
   ],
   "source": [
    "text = \"ولن نبالغ إذا قلنا إن هاتف أو كمبيوتر المكتب في زمننا هذا ضروري\"\n",
    "text_preprocessed = preprocess(text, do_farasa_tokenization= False) #farasa=farasa\n",
    "text_tokenized = tokenizer.tokenize(text_preprocessed)\n",
    "\n",
    "print(\"Original text: \",text)\n",
    "print(\"Preprocessed text: \",text_preprocessed)\n",
    "print(\"Tokenized text: \",text_tokenized)"
   ]
  },
  {
   "cell_type": "code",
   "execution_count": 34,
   "metadata": {
    "execution": {
     "iopub.execute_input": "2020-12-06T21:39:59.716946Z",
     "iopub.status.busy": "2020-12-06T21:39:59.715621Z",
     "iopub.status.idle": "2020-12-06T21:39:59.720335Z",
     "shell.execute_reply": "2020-12-06T21:39:59.719439Z"
    },
    "id": "Fi-5PMe48h1M",
    "papermill": {
     "duration": 0.133798,
     "end_time": "2020-12-06T21:39:59.720589",
     "exception": false,
     "start_time": "2020-12-06T21:39:59.586791",
     "status": "completed"
    },
    "tags": []
   },
   "outputs": [],
   "source": [
    "task = args['task_name']\n",
    "\n",
    "if task in processors.keys() and task in output_modes.keys():\n",
    "    processor = processors[task]()\n",
    "    label_list = processor.get_labels()\n",
    "    num_labels = len(label_list)\n",
    "else:\n",
    "    raise KeyError(f'{task} not found in processors or in output_modes. Please check utils.py.')"
   ]
  },
  {
   "cell_type": "markdown",
   "metadata": {
    "id": "BH6sD1-F9c_f",
    "papermill": {
     "duration": 0.120446,
     "end_time": "2020-12-06T21:39:59.966891",
     "exception": false,
     "start_time": "2020-12-06T21:39:59.846445",
     "status": "completed"
    },
    "tags": []
   },
   "source": [
    "##Train!!"
   ]
  },
  {
   "cell_type": "code",
   "execution_count": 35,
   "metadata": {
    "execution": {
     "iopub.execute_input": "2020-12-06T21:40:00.175418Z",
     "iopub.status.busy": "2020-12-06T21:40:00.173952Z",
     "iopub.status.idle": "2020-12-06T21:40:00.968558Z",
     "shell.execute_reply": "2020-12-06T21:40:00.969427Z"
    },
    "id": "8wlHIaLw9hKa",
    "papermill": {
     "duration": 0.90726,
     "end_time": "2020-12-06T21:40:00.969625",
     "exception": false,
     "start_time": "2020-12-06T21:40:00.062365",
     "status": "completed"
    },
    "tags": []
   },
   "outputs": [],
   "source": [
    "!rm -rf outputs_bert"
   ]
  },
  {
   "cell_type": "code",
   "execution_count": 36,
   "metadata": {
    "execution": {
     "iopub.execute_input": "2020-12-06T21:40:01.183832Z",
     "iopub.status.busy": "2020-12-06T21:40:01.182768Z",
     "iopub.status.idle": "2020-12-07T03:33:55.318111Z",
     "shell.execute_reply": "2020-12-07T03:33:55.318830Z"
    },
    "id": "sDEJlIJA8qjp",
    "outputId": "4513373f-3d18-4446-dc6b-3168460ca68c",
    "papermill": {
     "duration": 21234.250791,
     "end_time": "2020-12-07T03:33:55.319146",
     "exception": false,
     "start_time": "2020-12-06T21:40:01.068355",
     "status": "completed"
    },
    "tags": []
   },
   "outputs": [
    {
     "name": "stderr",
     "output_type": "stream",
     "text": [
      "\n",
      "  0%|          | 0/26254 [00:00<?, ?it/s]\u001b[A\n",
      "  0%|          | 1/26254 [00:00<3:33:57,  2.04it/s]\u001b[A\n",
      "  2%|▏         | 501/26254 [00:00<2:26:59,  2.92it/s]\u001b[A\n",
      "  4%|▍         | 1001/26254 [00:00<1:40:55,  4.17it/s]\u001b[A\n",
      "  6%|▌         | 1501/26254 [00:01<1:09:17,  5.95it/s]\u001b[A\n",
      "  8%|▊         | 2001/26254 [00:01<47:33,  8.50it/s]  \u001b[A\n",
      "  9%|▊         | 2258/26254 [00:01<33:00, 12.11it/s]\u001b[A\n",
      " 11%|█▏        | 3001/26254 [00:01<22:25, 17.29it/s]\u001b[A\n",
      " 13%|█▎        | 3501/26254 [00:01<15:23, 24.64it/s]\u001b[A\n",
      " 15%|█▍        | 3827/26254 [00:01<10:40, 35.00it/s]\u001b[A\n",
      " 19%|█▉        | 5001/26254 [00:01<07:05, 49.92it/s]\u001b[A\n",
      " 21%|██        | 5501/26254 [00:02<04:59, 69.40it/s]\u001b[A\n",
      " 22%|██▏       | 5848/26254 [00:02<03:27, 98.25it/s]\u001b[A\n",
      " 25%|██▍       | 6501/26254 [00:02<02:22, 139.08it/s]\u001b[A\n",
      " 27%|██▋       | 7001/26254 [00:02<01:38, 195.72it/s]\u001b[A\n",
      " 29%|██▊       | 7501/26254 [00:03<01:08, 272.39it/s]\u001b[A\n",
      " 30%|███       | 8001/26254 [00:03<00:48, 375.68it/s]\u001b[A\n",
      " 32%|███▏      | 8353/26254 [00:03<00:35, 502.54it/s]\u001b[A\n",
      " 33%|███▎      | 8670/26254 [00:03<00:26, 670.08it/s]\u001b[A\n",
      " 36%|███▌      | 9501/26254 [00:03<00:18, 910.25it/s]\u001b[A\n",
      " 40%|███▉      | 10501/26254 [00:04<00:13, 1156.72it/s]\u001b[A\n",
      " 41%|████▏     | 10866/26254 [00:04<00:11, 1304.76it/s]\u001b[A\n",
      " 46%|████▌     | 12001/26254 [00:04<00:08, 1654.03it/s]\u001b[A\n",
      " 48%|████▊     | 12501/26254 [00:04<00:07, 1954.70it/s]\u001b[A\n",
      " 50%|████▉     | 13001/26254 [00:04<00:06, 1895.38it/s]\u001b[A\n",
      " 51%|█████▏    | 13501/26254 [00:05<00:05, 2210.71it/s]\u001b[A\n",
      " 53%|█████▎    | 13817/26254 [00:05<00:07, 1710.82it/s]\u001b[A\n",
      " 54%|█████▎    | 14072/26254 [00:05<00:07, 1718.60it/s]\u001b[A\n",
      " 61%|██████    | 16001/26254 [00:05<00:04, 2304.22it/s]\u001b[A\n",
      " 63%|██████▎   | 16500/26254 [00:05<00:03, 2648.51it/s]\u001b[A\n",
      " 65%|██████▍   | 17001/26254 [00:05<00:03, 2870.66it/s]\u001b[A\n",
      " 67%|██████▋   | 17501/26254 [00:06<00:03, 2267.54it/s]\u001b[A\n",
      " 68%|██████▊   | 17853/26254 [00:06<00:03, 2294.16it/s]\u001b[A\n",
      " 69%|██████▉   | 18170/26254 [00:06<00:03, 2272.65it/s]\u001b[A\n",
      " 70%|███████   | 18459/26254 [00:06<00:03, 2276.78it/s]\u001b[A\n",
      " 71%|███████▏  | 18730/26254 [00:06<00:03, 2142.30it/s]\u001b[A\n",
      " 72%|███████▏  | 18976/26254 [00:06<00:03, 2040.19it/s]\u001b[A\n",
      " 80%|███████▉  | 21001/26254 [00:07<00:01, 2710.99it/s]\u001b[A\n",
      " 82%|████████▏ | 21510/26254 [00:07<00:01, 2937.95it/s]\u001b[A\n",
      " 84%|████████▍ | 22001/26254 [00:07<00:01, 2969.98it/s]\u001b[A\n",
      " 86%|████████▌ | 22501/26254 [00:07<00:01, 3240.80it/s]\u001b[A\n",
      " 88%|████████▊ | 23001/26254 [00:07<00:00, 3344.95it/s]\u001b[A\n",
      " 89%|████████▉ | 23401/26254 [00:07<00:00, 3050.52it/s]\u001b[A\n",
      " 93%|█████████▎| 24501/26254 [00:07<00:00, 3653.99it/s]\u001b[A\n",
      " 95%|█████████▌| 25001/26254 [00:08<00:00, 3668.23it/s]\u001b[A\n",
      "100%|██████████| 26254/26254 [00:08<00:00, 3190.22it/s]\n",
      "\n",
      "Epoch:   0%|          | 0/1 [00:00<?, ?it/s]\u001b[A/opt/conda/lib/python3.7/site-packages/ipykernel_launcher.py:49: TqdmDeprecationWarning: This function will be removed in tqdm==5.0.0\n",
      "Please use `tqdm.notebook.tqdm` instead of `tqdm.tqdm_notebook`\n"
     ]
    },
    {
     "data": {
      "application/vnd.jupyter.widget-view+json": {
       "model_id": "4eb9e93c67a84ebaa1f0e03a125c1dbc",
       "version_major": 2,
       "version_minor": 0
      },
      "text/plain": [
       "HBox(children=(FloatProgress(value=0.0, description='Iteration', max=1641.0, style=ProgressStyle(description_w…"
      ]
     },
     "metadata": {},
     "output_type": "display_data"
    },
    {
     "name": "stdout",
     "output_type": "stream",
     "text": [
      "0.087812\n"
     ]
    },
    {
     "name": "stderr",
     "output_type": "stream",
     "text": [
      "\n",
      "\n",
      "  0%|          | 0/6564 [00:00<?, ?it/s]\u001b[A\u001b[A\n",
      "\n",
      "  0%|          | 1/6564 [00:00<1:04:41,  1.69it/s]\u001b[A\u001b[A\n",
      "\n",
      "  0%|          | 2/6564 [00:00<49:45,  2.20it/s]  \u001b[A\u001b[A\n",
      "\n",
      " 23%|██▎       | 1501/6564 [00:01<26:52,  3.14it/s]\u001b[A\u001b[A\n",
      "\n",
      " 38%|███▊      | 2501/6564 [00:01<15:06,  4.48it/s]\u001b[A\u001b[A\n",
      "\n",
      " 42%|████▏     | 2737/6564 [00:01<09:58,  6.40it/s]\u001b[A\u001b[A\n",
      "\n",
      " 61%|██████    | 4001/6564 [00:01<04:40,  9.14it/s]\u001b[A\u001b[A\n",
      "\n",
      " 67%|██████▋   | 4376/6564 [00:01<02:47, 13.02it/s]\u001b[A\u001b[A\n",
      "\n",
      " 84%|████████▍ | 5501/6564 [00:01<00:57, 18.59it/s]\u001b[A\u001b[A\n",
      "\n",
      "100%|██████████| 6564/6564 [00:02<00:00, 3191.97it/s]\n",
      "/opt/conda/lib/python3.7/site-packages/ipykernel_launcher.py:68: TqdmDeprecationWarning: This function will be removed in tqdm==5.0.0\n",
      "Please use `tqdm.notebook.tqdm` instead of `tqdm.tqdm_notebook`\n"
     ]
    },
    {
     "data": {
      "application/vnd.jupyter.widget-view+json": {
       "model_id": "1ec6b7759c2340a48ac3ab36e5aa7b41",
       "version_major": 2,
       "version_minor": 0
      },
      "text/plain": [
       "HBox(children=(FloatProgress(value=0.0, description='Evaluating', max=206.0, style=ProgressStyle(description_w…"
      ]
     },
     "metadata": {},
     "output_type": "display_data"
    },
    {
     "name": "stderr",
     "output_type": "stream",
     "text": [
      "\n",
      "Epoch: 100%|██████████| 1/1 [5:53:36<00:00, 21216.08s/it]"
     ]
    },
    {
     "name": "stdout",
     "output_type": "stream",
     "text": [
      "\n",
      "              precision    recall  f1-score   support\n",
      "\n",
      "           0       0.73      0.49      0.58       964\n",
      "           1       0.92      0.97      0.94      5600\n",
      "\n",
      "    accuracy                           0.90      6564\n",
      "   macro avg       0.82      0.73      0.76      6564\n",
      "weighted avg       0.89      0.90      0.89      6564\n",
      "\n",
      "[[ 469  495]\n",
      " [ 171 5429]]\n"
     ]
    },
    {
     "name": "stderr",
     "output_type": "stream",
     "text": [
      "\n"
     ]
    }
   ],
   "source": [
    "global_step, tr_loss = train(model, tokenizer)\n",
    "logger.info(\" global_step = %s, average loss = %s\", global_step, tr_loss)\n"
   ]
  },
  {
   "cell_type": "markdown",
   "metadata": {
    "id": "PtMg4QRM9-4U",
    "papermill": {
     "duration": 0.838674,
     "end_time": "2020-12-07T03:33:57.027368",
     "exception": false,
     "start_time": "2020-12-07T03:33:56.188694",
     "status": "completed"
    },
    "tags": []
   },
   "source": [
    "##Visualize Training Logs"
   ]
  },
  {
   "cell_type": "code",
   "execution_count": 37,
   "metadata": {
    "execution": {
     "iopub.execute_input": "2020-12-07T03:33:58.722791Z",
     "iopub.status.busy": "2020-12-07T03:33:58.721827Z",
     "iopub.status.idle": "2020-12-07T03:33:58.725705Z",
     "shell.execute_reply": "2020-12-07T03:33:58.724957Z"
    },
    "id": "i_lcF08M-Dq0",
    "papermill": {
     "duration": 0.863558,
     "end_time": "2020-12-07T03:33:58.725846",
     "exception": false,
     "start_time": "2020-12-07T03:33:57.862288",
     "status": "completed"
    },
    "tags": []
   },
   "outputs": [],
   "source": [
    "#%load_ext tensorboard\n",
    "#%tensorboard --logdir {args['log_dir']}"
   ]
  },
  {
   "cell_type": "markdown",
   "metadata": {
    "id": "bE2ELecF9yNc",
    "papermill": {
     "duration": 0.841039,
     "end_time": "2020-12-07T03:34:00.390055",
     "exception": false,
     "start_time": "2020-12-07T03:33:59.549016",
     "status": "completed"
    },
    "tags": []
   },
   "source": [
    "##Predict"
   ]
  },
  {
   "cell_type": "code",
   "execution_count": 38,
   "metadata": {
    "execution": {
     "iopub.execute_input": "2020-12-07T03:34:02.069332Z",
     "iopub.status.busy": "2020-12-07T03:34:02.068432Z",
     "iopub.status.idle": "2020-12-07T03:34:02.612228Z",
     "shell.execute_reply": "2020-12-07T03:34:02.611539Z"
    },
    "id": "_zzRDCEA9x1f",
    "outputId": "e1a533c7-9845-4aa9-88c9-15277d5afde1",
    "papermill": {
     "duration": 1.391892,
     "end_time": "2020-12-07T03:34:02.612410",
     "exception": false,
     "start_time": "2020-12-07T03:34:01.220518",
     "status": "completed"
    },
    "tags": []
   },
   "outputs": [
    {
     "ename": "NameError",
     "evalue": "name 'predict' is not defined",
     "output_type": "error",
     "traceback": [
      "\u001b[0;31m---------------------------------------------------------------------------\u001b[0m",
      "\u001b[0;31mNameError\u001b[0m                                 Traceback (most recent call last)",
      "\u001b[0;32m<ipython-input-38-af49d9531e4a>\u001b[0m in \u001b[0;36m<module>\u001b[0;34m\u001b[0m\n\u001b[0;32m----> 1\u001b[0;31m \u001b[0mpreds\u001b[0m \u001b[0;34m=\u001b[0m \u001b[0mpredict\u001b[0m\u001b[0;34m(\u001b[0m\u001b[0mmodel\u001b[0m\u001b[0;34m,\u001b[0m\u001b[0mtokenizer\u001b[0m\u001b[0;34m)\u001b[0m\u001b[0;34m\u001b[0m\u001b[0;34m\u001b[0m\u001b[0m\n\u001b[0m",
      "\u001b[0;31mNameError\u001b[0m: name 'predict' is not defined"
     ]
    }
   ],
   "source": [
    "preds = predict(model,tokenizer)"
   ]
  },
  {
   "cell_type": "code",
   "execution_count": 39,
   "metadata": {
    "execution": {
     "iopub.execute_input": "2020-12-07T03:34:04.300813Z",
     "iopub.status.busy": "2020-12-07T03:34:04.299654Z",
     "iopub.status.idle": "2020-12-07T03:34:04.348383Z",
     "shell.execute_reply": "2020-12-07T03:34:04.347483Z"
    },
    "id": "_dzPX53kR2R5",
    "papermill": {
     "duration": 0.897136,
     "end_time": "2020-12-07T03:34:04.348559",
     "exception": false,
     "start_time": "2020-12-07T03:34:03.451423",
     "status": "completed"
    },
    "tags": []
   },
   "outputs": [
    {
     "ename": "NameError",
     "evalue": "name 'preds' is not defined",
     "output_type": "error",
     "traceback": [
      "\u001b[0;31m---------------------------------------------------------------------------\u001b[0m",
      "\u001b[0;31mNameError\u001b[0m                                 Traceback (most recent call last)",
      "\u001b[0;32m<ipython-input-39-f3dbe050577e>\u001b[0m in \u001b[0;36m<module>\u001b[0;34m\u001b[0m\n\u001b[0;32m----> 1\u001b[0;31m \u001b[0mdf_predictions\u001b[0m \u001b[0;34m=\u001b[0m \u001b[0mpd\u001b[0m\u001b[0;34m.\u001b[0m\u001b[0mconcat\u001b[0m\u001b[0;34m(\u001b[0m\u001b[0;34m(\u001b[0m\u001b[0mtest_AJGT\u001b[0m\u001b[0;34m.\u001b[0m\u001b[0mreset_index\u001b[0m\u001b[0;34m(\u001b[0m\u001b[0;34m)\u001b[0m\u001b[0;34m,\u001b[0m\u001b[0mpd\u001b[0m\u001b[0;34m.\u001b[0m\u001b[0mDataFrame\u001b[0m\u001b[0;34m(\u001b[0m\u001b[0mpreds\u001b[0m\u001b[0;34m,\u001b[0m\u001b[0mcolumns\u001b[0m\u001b[0;34m=\u001b[0m\u001b[0;34m[\u001b[0m\u001b[0;34m'predicted'\u001b[0m\u001b[0;34m]\u001b[0m\u001b[0;34m)\u001b[0m\u001b[0;34m)\u001b[0m\u001b[0;34m,\u001b[0m\u001b[0maxis\u001b[0m\u001b[0;34m=\u001b[0m\u001b[0;36m1\u001b[0m\u001b[0;34m,\u001b[0m\u001b[0mignore_index\u001b[0m\u001b[0;34m=\u001b[0m\u001b[0;32mFalse\u001b[0m\u001b[0;34m,\u001b[0m\u001b[0;34m)\u001b[0m\u001b[0;34m\u001b[0m\u001b[0;34m\u001b[0m\u001b[0m\n\u001b[0m",
      "\u001b[0;31mNameError\u001b[0m: name 'preds' is not defined"
     ]
    }
   ],
   "source": [
    "df_predictions = pd.concat((test_AJGT.reset_index(),pd.DataFrame(preds,columns=['predicted'])),axis=1,ignore_index=False,)"
   ]
  },
  {
   "cell_type": "code",
   "execution_count": 40,
   "metadata": {
    "execution": {
     "iopub.execute_input": "2020-12-07T03:34:06.047260Z",
     "iopub.status.busy": "2020-12-07T03:34:06.043618Z",
     "iopub.status.idle": "2020-12-07T03:34:06.054501Z",
     "shell.execute_reply": "2020-12-07T03:34:06.053776Z"
    },
    "id": "UNirSpteS5v4",
    "outputId": "e5addfcf-82de-45d2-a82e-f04c107aade4",
    "papermill": {
     "duration": 0.875952,
     "end_time": "2020-12-07T03:34:06.054659",
     "exception": false,
     "start_time": "2020-12-07T03:34:05.178707",
     "status": "completed"
    },
    "tags": []
   },
   "outputs": [
    {
     "ename": "NameError",
     "evalue": "name 'df_predictions' is not defined",
     "output_type": "error",
     "traceback": [
      "\u001b[0;31m---------------------------------------------------------------------------\u001b[0m",
      "\u001b[0;31mNameError\u001b[0m                                 Traceback (most recent call last)",
      "\u001b[0;32m<ipython-input-40-334430aeba02>\u001b[0m in \u001b[0;36m<module>\u001b[0;34m\u001b[0m\n\u001b[0;32m----> 1\u001b[0;31m \u001b[0mdf_predictions\u001b[0m\u001b[0;34m\u001b[0m\u001b[0;34m\u001b[0m\u001b[0m\n\u001b[0m",
      "\u001b[0;31mNameError\u001b[0m: name 'df_predictions' is not defined"
     ]
    }
   ],
   "source": [
    "df_predictions"
   ]
  },
  {
   "cell_type": "code",
   "execution_count": 41,
   "metadata": {
    "execution": {
     "iopub.execute_input": "2020-12-07T03:34:07.782877Z",
     "iopub.status.busy": "2020-12-07T03:34:07.781010Z",
     "iopub.status.idle": "2020-12-07T03:34:07.790544Z",
     "shell.execute_reply": "2020-12-07T03:34:07.789745Z"
    },
    "papermill": {
     "duration": 0.870987,
     "end_time": "2020-12-07T03:34:07.790712",
     "exception": false,
     "start_time": "2020-12-07T03:34:06.919725",
     "status": "completed"
    },
    "tags": []
   },
   "outputs": [
    {
     "ename": "NameError",
     "evalue": "name 'df_predictions' is not defined",
     "output_type": "error",
     "traceback": [
      "\u001b[0;31m---------------------------------------------------------------------------\u001b[0m",
      "\u001b[0;31mNameError\u001b[0m                                 Traceback (most recent call last)",
      "\u001b[0;32m<ipython-input-41-424930cca7fe>\u001b[0m in \u001b[0;36m<module>\u001b[0;34m\u001b[0m\n\u001b[0;32m----> 1\u001b[0;31m \u001b[0mdf_arabert_predictions\u001b[0m \u001b[0;34m=\u001b[0m \u001b[0mdf_predictions\u001b[0m\u001b[0;34m.\u001b[0m\u001b[0mto_csv\u001b[0m\u001b[0;34m(\u001b[0m\u001b[0;34m'Result.csv'\u001b[0m\u001b[0;34m,\u001b[0m\u001b[0mindex\u001b[0m \u001b[0;34m=\u001b[0m \u001b[0;32mFalse\u001b[0m\u001b[0;34m)\u001b[0m\u001b[0;34m\u001b[0m\u001b[0;34m\u001b[0m\u001b[0m\n\u001b[0m",
      "\u001b[0;31mNameError\u001b[0m: name 'df_predictions' is not defined"
     ]
    }
   ],
   "source": [
    "df_arabert_predictions = df_predictions.to_csv('Result.csv',index = False)"
   ]
  }
 ],
 "metadata": {
  "kernelspec": {
   "display_name": "Python 3",
   "language": "python",
   "name": "python3"
  },
  "language_info": {
   "codemirror_mode": {
    "name": "ipython",
    "version": 3
   },
   "file_extension": ".py",
   "mimetype": "text/x-python",
   "name": "python",
   "nbconvert_exporter": "python",
   "pygments_lexer": "ipython3",
   "version": "3.7.6"
  },
  "papermill": {
   "duration": 21404.102703,
   "end_time": "2020-12-07T03:34:09.906219",
   "environment_variables": {},
   "exception": null,
   "input_path": "__notebook__.ipynb",
   "output_path": "__notebook__.ipynb",
   "parameters": {},
   "start_time": "2020-12-06T21:37:25.803516",
   "version": "2.1.0"
  },
  "widgets": {
   "application/vnd.jupyter.widget-state+json": {
    "state": {
     "0112356a6e5448bead5fdae110469768": {
      "model_module": "@jupyter-widgets/controls",
      "model_module_version": "1.5.0",
      "model_name": "HTMLModel",
      "state": {
       "_dom_classes": [],
       "_model_module": "@jupyter-widgets/controls",
       "_model_module_version": "1.5.0",
       "_model_name": "HTMLModel",
       "_view_count": null,
       "_view_module": "@jupyter-widgets/controls",
       "_view_module_version": "1.5.0",
       "_view_name": "HTMLView",
       "description": "",
       "description_tooltip": null,
       "layout": "IPY_MODEL_0b504eb990fa46ad9440c7208c3efeb6",
       "placeholder": "​",
       "style": "IPY_MODEL_d8f9b297b8274cd5b115bbec4a357829",
       "value": " 572/572 [00:20&lt;00:00, 27.3B/s]"
      }
     },
     "033ae8948a9b4c068e7245c58b3eae76": {
      "model_module": "@jupyter-widgets/controls",
      "model_module_version": "1.5.0",
      "model_name": "DescriptionStyleModel",
      "state": {
       "_model_module": "@jupyter-widgets/controls",
       "_model_module_version": "1.5.0",
       "_model_name": "DescriptionStyleModel",
       "_view_count": null,
       "_view_module": "@jupyter-widgets/base",
       "_view_module_version": "1.2.0",
       "_view_name": "StyleView",
       "description_width": ""
      }
     },
     "070b24ffb7b54aef896e7a2e846aebef": {
      "model_module": "@jupyter-widgets/base",
      "model_module_version": "1.2.0",
      "model_name": "LayoutModel",
      "state": {
       "_model_module": "@jupyter-widgets/base",
       "_model_module_version": "1.2.0",
       "_model_name": "LayoutModel",
       "_view_count": null,
       "_view_module": "@jupyter-widgets/base",
       "_view_module_version": "1.2.0",
       "_view_name": "LayoutView",
       "align_content": null,
       "align_items": null,
       "align_self": null,
       "border": null,
       "bottom": null,
       "display": null,
       "flex": null,
       "flex_flow": null,
       "grid_area": null,
       "grid_auto_columns": null,
       "grid_auto_flow": null,
       "grid_auto_rows": null,
       "grid_column": null,
       "grid_gap": null,
       "grid_row": null,
       "grid_template_areas": null,
       "grid_template_columns": null,
       "grid_template_rows": null,
       "height": null,
       "justify_content": null,
       "justify_items": null,
       "left": null,
       "margin": null,
       "max_height": null,
       "max_width": null,
       "min_height": null,
       "min_width": null,
       "object_fit": null,
       "object_position": null,
       "order": null,
       "overflow": null,
       "overflow_x": null,
       "overflow_y": null,
       "padding": null,
       "right": null,
       "top": null,
       "visibility": null,
       "width": null
      }
     },
     "07fff482c07b42558b32bca30746dcca": {
      "model_module": "@jupyter-widgets/base",
      "model_module_version": "1.2.0",
      "model_name": "LayoutModel",
      "state": {
       "_model_module": "@jupyter-widgets/base",
       "_model_module_version": "1.2.0",
       "_model_name": "LayoutModel",
       "_view_count": null,
       "_view_module": "@jupyter-widgets/base",
       "_view_module_version": "1.2.0",
       "_view_name": "LayoutView",
       "align_content": null,
       "align_items": null,
       "align_self": null,
       "border": null,
       "bottom": null,
       "display": null,
       "flex": null,
       "flex_flow": null,
       "grid_area": null,
       "grid_auto_columns": null,
       "grid_auto_flow": null,
       "grid_auto_rows": null,
       "grid_column": null,
       "grid_gap": null,
       "grid_row": null,
       "grid_template_areas": null,
       "grid_template_columns": null,
       "grid_template_rows": null,
       "height": null,
       "justify_content": null,
       "justify_items": null,
       "left": null,
       "margin": null,
       "max_height": null,
       "max_width": null,
       "min_height": null,
       "min_width": null,
       "object_fit": null,
       "object_position": null,
       "order": null,
       "overflow": null,
       "overflow_x": null,
       "overflow_y": null,
       "padding": null,
       "right": null,
       "top": null,
       "visibility": null,
       "width": null
      }
     },
     "0b504eb990fa46ad9440c7208c3efeb6": {
      "model_module": "@jupyter-widgets/base",
      "model_module_version": "1.2.0",
      "model_name": "LayoutModel",
      "state": {
       "_model_module": "@jupyter-widgets/base",
       "_model_module_version": "1.2.0",
       "_model_name": "LayoutModel",
       "_view_count": null,
       "_view_module": "@jupyter-widgets/base",
       "_view_module_version": "1.2.0",
       "_view_name": "LayoutView",
       "align_content": null,
       "align_items": null,
       "align_self": null,
       "border": null,
       "bottom": null,
       "display": null,
       "flex": null,
       "flex_flow": null,
       "grid_area": null,
       "grid_auto_columns": null,
       "grid_auto_flow": null,
       "grid_auto_rows": null,
       "grid_column": null,
       "grid_gap": null,
       "grid_row": null,
       "grid_template_areas": null,
       "grid_template_columns": null,
       "grid_template_rows": null,
       "height": null,
       "justify_content": null,
       "justify_items": null,
       "left": null,
       "margin": null,
       "max_height": null,
       "max_width": null,
       "min_height": null,
       "min_width": null,
       "object_fit": null,
       "object_position": null,
       "order": null,
       "overflow": null,
       "overflow_x": null,
       "overflow_y": null,
       "padding": null,
       "right": null,
       "top": null,
       "visibility": null,
       "width": null
      }
     },
     "1077fd9471264040a4a33f1e68e7b880": {
      "model_module": "@jupyter-widgets/base",
      "model_module_version": "1.2.0",
      "model_name": "LayoutModel",
      "state": {
       "_model_module": "@jupyter-widgets/base",
       "_model_module_version": "1.2.0",
       "_model_name": "LayoutModel",
       "_view_count": null,
       "_view_module": "@jupyter-widgets/base",
       "_view_module_version": "1.2.0",
       "_view_name": "LayoutView",
       "align_content": null,
       "align_items": null,
       "align_self": null,
       "border": null,
       "bottom": null,
       "display": null,
       "flex": null,
       "flex_flow": null,
       "grid_area": null,
       "grid_auto_columns": null,
       "grid_auto_flow": null,
       "grid_auto_rows": null,
       "grid_column": null,
       "grid_gap": null,
       "grid_row": null,
       "grid_template_areas": null,
       "grid_template_columns": null,
       "grid_template_rows": null,
       "height": null,
       "justify_content": null,
       "justify_items": null,
       "left": null,
       "margin": null,
       "max_height": null,
       "max_width": null,
       "min_height": null,
       "min_width": null,
       "object_fit": null,
       "object_position": null,
       "order": null,
       "overflow": null,
       "overflow_x": null,
       "overflow_y": null,
       "padding": null,
       "right": null,
       "top": null,
       "visibility": null,
       "width": null
      }
     },
     "140186f7a6854d10babf9bf5f997b7fb": {
      "model_module": "@jupyter-widgets/controls",
      "model_module_version": "1.5.0",
      "model_name": "DescriptionStyleModel",
      "state": {
       "_model_module": "@jupyter-widgets/controls",
       "_model_module_version": "1.5.0",
       "_model_name": "DescriptionStyleModel",
       "_view_count": null,
       "_view_module": "@jupyter-widgets/base",
       "_view_module_version": "1.2.0",
       "_view_name": "StyleView",
       "description_width": ""
      }
     },
     "15a5f583f7104a77a467111fdd339a50": {
      "model_module": "@jupyter-widgets/controls",
      "model_module_version": "1.5.0",
      "model_name": "ProgressStyleModel",
      "state": {
       "_model_module": "@jupyter-widgets/controls",
       "_model_module_version": "1.5.0",
       "_model_name": "ProgressStyleModel",
       "_view_count": null,
       "_view_module": "@jupyter-widgets/base",
       "_view_module_version": "1.2.0",
       "_view_name": "StyleView",
       "bar_color": null,
       "description_width": "initial"
      }
     },
     "1ec6b7759c2340a48ac3ab36e5aa7b41": {
      "model_module": "@jupyter-widgets/controls",
      "model_module_version": "1.5.0",
      "model_name": "HBoxModel",
      "state": {
       "_dom_classes": [],
       "_model_module": "@jupyter-widgets/controls",
       "_model_module_version": "1.5.0",
       "_model_name": "HBoxModel",
       "_view_count": null,
       "_view_module": "@jupyter-widgets/controls",
       "_view_module_version": "1.5.0",
       "_view_name": "HBoxView",
       "box_style": "",
       "children": [
        "IPY_MODEL_ce03f15f29764408b81d0b519d306164",
        "IPY_MODEL_fd25a5ee790f4e9da98e617c9ef90b57"
       ],
       "layout": "IPY_MODEL_1077fd9471264040a4a33f1e68e7b880"
      }
     },
     "22cdd937e84a44aba8c583ae29f1798e": {
      "model_module": "@jupyter-widgets/base",
      "model_module_version": "1.2.0",
      "model_name": "LayoutModel",
      "state": {
       "_model_module": "@jupyter-widgets/base",
       "_model_module_version": "1.2.0",
       "_model_name": "LayoutModel",
       "_view_count": null,
       "_view_module": "@jupyter-widgets/base",
       "_view_module_version": "1.2.0",
       "_view_name": "LayoutView",
       "align_content": null,
       "align_items": null,
       "align_self": null,
       "border": null,
       "bottom": null,
       "display": null,
       "flex": null,
       "flex_flow": null,
       "grid_area": null,
       "grid_auto_columns": null,
       "grid_auto_flow": null,
       "grid_auto_rows": null,
       "grid_column": null,
       "grid_gap": null,
       "grid_row": null,
       "grid_template_areas": null,
       "grid_template_columns": null,
       "grid_template_rows": null,
       "height": null,
       "justify_content": null,
       "justify_items": null,
       "left": null,
       "margin": null,
       "max_height": null,
       "max_width": null,
       "min_height": null,
       "min_width": null,
       "object_fit": null,
       "object_position": null,
       "order": null,
       "overflow": null,
       "overflow_x": null,
       "overflow_y": null,
       "padding": null,
       "right": null,
       "top": null,
       "visibility": null,
       "width": null
      }
     },
     "2673f7eb53734dcf9277382698de6135": {
      "model_module": "@jupyter-widgets/controls",
      "model_module_version": "1.5.0",
      "model_name": "HBoxModel",
      "state": {
       "_dom_classes": [],
       "_model_module": "@jupyter-widgets/controls",
       "_model_module_version": "1.5.0",
       "_model_name": "HBoxModel",
       "_view_count": null,
       "_view_module": "@jupyter-widgets/controls",
       "_view_module_version": "1.5.0",
       "_view_name": "HBoxView",
       "box_style": "",
       "children": [
        "IPY_MODEL_a7f49fba459d4a52a0dd4cd40fc36c9b",
        "IPY_MODEL_c183e8a2c0a643e1a6f61681fe5f319d"
       ],
       "layout": "IPY_MODEL_070b24ffb7b54aef896e7a2e846aebef"
      }
     },
     "2738d331bb0c43ba8c589bd30005d652": {
      "model_module": "@jupyter-widgets/base",
      "model_module_version": "1.2.0",
      "model_name": "LayoutModel",
      "state": {
       "_model_module": "@jupyter-widgets/base",
       "_model_module_version": "1.2.0",
       "_model_name": "LayoutModel",
       "_view_count": null,
       "_view_module": "@jupyter-widgets/base",
       "_view_module_version": "1.2.0",
       "_view_name": "LayoutView",
       "align_content": null,
       "align_items": null,
       "align_self": null,
       "border": null,
       "bottom": null,
       "display": null,
       "flex": null,
       "flex_flow": null,
       "grid_area": null,
       "grid_auto_columns": null,
       "grid_auto_flow": null,
       "grid_auto_rows": null,
       "grid_column": null,
       "grid_gap": null,
       "grid_row": null,
       "grid_template_areas": null,
       "grid_template_columns": null,
       "grid_template_rows": null,
       "height": null,
       "justify_content": null,
       "justify_items": null,
       "left": null,
       "margin": null,
       "max_height": null,
       "max_width": null,
       "min_height": null,
       "min_width": null,
       "object_fit": null,
       "object_position": null,
       "order": null,
       "overflow": null,
       "overflow_x": null,
       "overflow_y": null,
       "padding": null,
       "right": null,
       "top": null,
       "visibility": null,
       "width": null
      }
     },
     "31e1eae048d8489a9e57e75aa073c1bb": {
      "model_module": "@jupyter-widgets/controls",
      "model_module_version": "1.5.0",
      "model_name": "HTMLModel",
      "state": {
       "_dom_classes": [],
       "_model_module": "@jupyter-widgets/controls",
       "_model_module_version": "1.5.0",
       "_model_name": "HTMLModel",
       "_view_count": null,
       "_view_module": "@jupyter-widgets/controls",
       "_view_module_version": "1.5.0",
       "_view_name": "HTMLView",
       "description": "",
       "description_tooltip": null,
       "layout": "IPY_MODEL_a2b1008c416f46acb34837c83d3c815b",
       "placeholder": "​",
       "style": "IPY_MODEL_033ae8948a9b4c068e7245c58b3eae76",
       "value": " 112/112 [00:00&lt;00:00, 192B/s]"
      }
     },
     "34fb7beb860f4d2192908cbd114a999d": {
      "model_module": "@jupyter-widgets/controls",
      "model_module_version": "1.5.0",
      "model_name": "HBoxModel",
      "state": {
       "_dom_classes": [],
       "_model_module": "@jupyter-widgets/controls",
       "_model_module_version": "1.5.0",
       "_model_name": "HBoxModel",
       "_view_count": null,
       "_view_module": "@jupyter-widgets/controls",
       "_view_module_version": "1.5.0",
       "_view_name": "HBoxView",
       "box_style": "",
       "children": [
        "IPY_MODEL_b8b49b4c4db1416ab26fbf56d9a0c554",
        "IPY_MODEL_0112356a6e5448bead5fdae110469768"
       ],
       "layout": "IPY_MODEL_f85dce4fdf1a47b69ae24b7164095b4b"
      }
     },
     "3509c831742d42ed8115eebce7aa83b1": {
      "model_module": "@jupyter-widgets/controls",
      "model_module_version": "1.5.0",
      "model_name": "FloatProgressModel",
      "state": {
       "_dom_classes": [],
       "_model_module": "@jupyter-widgets/controls",
       "_model_module_version": "1.5.0",
       "_model_name": "FloatProgressModel",
       "_view_count": null,
       "_view_module": "@jupyter-widgets/controls",
       "_view_module_version": "1.5.0",
       "_view_name": "ProgressView",
       "bar_style": "success",
       "description": "Downloading: 100%",
       "description_tooltip": null,
       "layout": "IPY_MODEL_7e0e5d1888b4454a9af318b0a057687f",
       "max": 543450661.0,
       "min": 0.0,
       "orientation": "horizontal",
       "style": "IPY_MODEL_77cc52da72e240a78e9fd38dbbbe435d",
       "value": 543450661.0
      }
     },
     "370aae6dc1be44569da0e6a97fa66656": {
      "model_module": "@jupyter-widgets/controls",
      "model_module_version": "1.5.0",
      "model_name": "HBoxModel",
      "state": {
       "_dom_classes": [],
       "_model_module": "@jupyter-widgets/controls",
       "_model_module_version": "1.5.0",
       "_model_name": "HBoxModel",
       "_view_count": null,
       "_view_module": "@jupyter-widgets/controls",
       "_view_module_version": "1.5.0",
       "_view_name": "HBoxView",
       "box_style": "",
       "children": [
        "IPY_MODEL_3509c831742d42ed8115eebce7aa83b1",
        "IPY_MODEL_6fb9349e15df41ef9434d7543d6125f4"
       ],
       "layout": "IPY_MODEL_b413446d4ace406692c36f33e9db6392"
      }
     },
     "376777b6dea7492789b6aa39e47313f4": {
      "model_module": "@jupyter-widgets/controls",
      "model_module_version": "1.5.0",
      "model_name": "ProgressStyleModel",
      "state": {
       "_model_module": "@jupyter-widgets/controls",
       "_model_module_version": "1.5.0",
       "_model_name": "ProgressStyleModel",
       "_view_count": null,
       "_view_module": "@jupyter-widgets/base",
       "_view_module_version": "1.2.0",
       "_view_name": "StyleView",
       "bar_color": null,
       "description_width": "initial"
      }
     },
     "3ae6f67b66ef480196153c64e216d8b4": {
      "model_module": "@jupyter-widgets/controls",
      "model_module_version": "1.5.0",
      "model_name": "HBoxModel",
      "state": {
       "_dom_classes": [],
       "_model_module": "@jupyter-widgets/controls",
       "_model_module_version": "1.5.0",
       "_model_name": "HBoxModel",
       "_view_count": null,
       "_view_module": "@jupyter-widgets/controls",
       "_view_module_version": "1.5.0",
       "_view_name": "HBoxView",
       "box_style": "",
       "children": [
        "IPY_MODEL_7fe87525bc61471193035ae4b5ed5193",
        "IPY_MODEL_ad055db8ce0a4ccc8cfbbfcf0720ee33"
       ],
       "layout": "IPY_MODEL_d37e7eb4798c40a5826a4f65dc25d954"
      }
     },
     "3dac4d6c96374e6a9ecddda9052b37d8": {
      "model_module": "@jupyter-widgets/controls",
      "model_module_version": "1.5.0",
      "model_name": "DescriptionStyleModel",
      "state": {
       "_model_module": "@jupyter-widgets/controls",
       "_model_module_version": "1.5.0",
       "_model_name": "DescriptionStyleModel",
       "_view_count": null,
       "_view_module": "@jupyter-widgets/base",
       "_view_module_version": "1.2.0",
       "_view_name": "StyleView",
       "description_width": ""
      }
     },
     "4eb9e93c67a84ebaa1f0e03a125c1dbc": {
      "model_module": "@jupyter-widgets/controls",
      "model_module_version": "1.5.0",
      "model_name": "HBoxModel",
      "state": {
       "_dom_classes": [],
       "_model_module": "@jupyter-widgets/controls",
       "_model_module_version": "1.5.0",
       "_model_name": "HBoxModel",
       "_view_count": null,
       "_view_module": "@jupyter-widgets/controls",
       "_view_module_version": "1.5.0",
       "_view_name": "HBoxView",
       "box_style": "",
       "children": [
        "IPY_MODEL_5e8f0502c07345b080b14949923ad5eb",
        "IPY_MODEL_e6137b2d0e3f4ef79128a8486ed65c5e"
       ],
       "layout": "IPY_MODEL_e0514eca6ac344bc8281a563328724a8"
      }
     },
     "504f56a063c245d5aa2385ddfe5d6d11": {
      "model_module": "@jupyter-widgets/controls",
      "model_module_version": "1.5.0",
      "model_name": "DescriptionStyleModel",
      "state": {
       "_model_module": "@jupyter-widgets/controls",
       "_model_module_version": "1.5.0",
       "_model_name": "DescriptionStyleModel",
       "_view_count": null,
       "_view_module": "@jupyter-widgets/base",
       "_view_module_version": "1.2.0",
       "_view_name": "StyleView",
       "description_width": ""
      }
     },
     "5667bbbef45642e1963ff4bc95a245c3": {
      "model_module": "@jupyter-widgets/base",
      "model_module_version": "1.2.0",
      "model_name": "LayoutModel",
      "state": {
       "_model_module": "@jupyter-widgets/base",
       "_model_module_version": "1.2.0",
       "_model_name": "LayoutModel",
       "_view_count": null,
       "_view_module": "@jupyter-widgets/base",
       "_view_module_version": "1.2.0",
       "_view_name": "LayoutView",
       "align_content": null,
       "align_items": null,
       "align_self": null,
       "border": null,
       "bottom": null,
       "display": null,
       "flex": null,
       "flex_flow": null,
       "grid_area": null,
       "grid_auto_columns": null,
       "grid_auto_flow": null,
       "grid_auto_rows": null,
       "grid_column": null,
       "grid_gap": null,
       "grid_row": null,
       "grid_template_areas": null,
       "grid_template_columns": null,
       "grid_template_rows": null,
       "height": null,
       "justify_content": null,
       "justify_items": null,
       "left": null,
       "margin": null,
       "max_height": null,
       "max_width": null,
       "min_height": null,
       "min_width": null,
       "object_fit": null,
       "object_position": null,
       "order": null,
       "overflow": null,
       "overflow_x": null,
       "overflow_y": null,
       "padding": null,
       "right": null,
       "top": null,
       "visibility": null,
       "width": null
      }
     },
     "5e8f0502c07345b080b14949923ad5eb": {
      "model_module": "@jupyter-widgets/controls",
      "model_module_version": "1.5.0",
      "model_name": "FloatProgressModel",
      "state": {
       "_dom_classes": [],
       "_model_module": "@jupyter-widgets/controls",
       "_model_module_version": "1.5.0",
       "_model_name": "FloatProgressModel",
       "_view_count": null,
       "_view_module": "@jupyter-widgets/controls",
       "_view_module_version": "1.5.0",
       "_view_name": "ProgressView",
       "bar_style": "success",
       "description": "Iteration: 100%",
       "description_tooltip": null,
       "layout": "IPY_MODEL_882888eaf24c4db788f98d06124e916d",
       "max": 1641.0,
       "min": 0.0,
       "orientation": "horizontal",
       "style": "IPY_MODEL_376777b6dea7492789b6aa39e47313f4",
       "value": 1641.0
      }
     },
     "645bb0de9cd548b999e0b55cd8460736": {
      "model_module": "@jupyter-widgets/base",
      "model_module_version": "1.2.0",
      "model_name": "LayoutModel",
      "state": {
       "_model_module": "@jupyter-widgets/base",
       "_model_module_version": "1.2.0",
       "_model_name": "LayoutModel",
       "_view_count": null,
       "_view_module": "@jupyter-widgets/base",
       "_view_module_version": "1.2.0",
       "_view_name": "LayoutView",
       "align_content": null,
       "align_items": null,
       "align_self": null,
       "border": null,
       "bottom": null,
       "display": null,
       "flex": null,
       "flex_flow": null,
       "grid_area": null,
       "grid_auto_columns": null,
       "grid_auto_flow": null,
       "grid_auto_rows": null,
       "grid_column": null,
       "grid_gap": null,
       "grid_row": null,
       "grid_template_areas": null,
       "grid_template_columns": null,
       "grid_template_rows": null,
       "height": null,
       "justify_content": null,
       "justify_items": null,
       "left": null,
       "margin": null,
       "max_height": null,
       "max_width": null,
       "min_height": null,
       "min_width": null,
       "object_fit": null,
       "object_position": null,
       "order": null,
       "overflow": null,
       "overflow_x": null,
       "overflow_y": null,
       "padding": null,
       "right": null,
       "top": null,
       "visibility": null,
       "width": null
      }
     },
     "6fb9349e15df41ef9434d7543d6125f4": {
      "model_module": "@jupyter-widgets/controls",
      "model_module_version": "1.5.0",
      "model_name": "HTMLModel",
      "state": {
       "_dom_classes": [],
       "_model_module": "@jupyter-widgets/controls",
       "_model_module_version": "1.5.0",
       "_model_name": "HTMLModel",
       "_view_count": null,
       "_view_module": "@jupyter-widgets/controls",
       "_view_module_version": "1.5.0",
       "_view_name": "HTMLView",
       "description": "",
       "description_tooltip": null,
       "layout": "IPY_MODEL_645bb0de9cd548b999e0b55cd8460736",
       "placeholder": "​",
       "style": "IPY_MODEL_140186f7a6854d10babf9bf5f997b7fb",
       "value": " 543M/543M [00:29&lt;00:00, 18.2MB/s]"
      }
     },
     "77cc52da72e240a78e9fd38dbbbe435d": {
      "model_module": "@jupyter-widgets/controls",
      "model_module_version": "1.5.0",
      "model_name": "ProgressStyleModel",
      "state": {
       "_model_module": "@jupyter-widgets/controls",
       "_model_module_version": "1.5.0",
       "_model_name": "ProgressStyleModel",
       "_view_count": null,
       "_view_module": "@jupyter-widgets/base",
       "_view_module_version": "1.2.0",
       "_view_name": "StyleView",
       "bar_color": null,
       "description_width": "initial"
      }
     },
     "7e0e5d1888b4454a9af318b0a057687f": {
      "model_module": "@jupyter-widgets/base",
      "model_module_version": "1.2.0",
      "model_name": "LayoutModel",
      "state": {
       "_model_module": "@jupyter-widgets/base",
       "_model_module_version": "1.2.0",
       "_model_name": "LayoutModel",
       "_view_count": null,
       "_view_module": "@jupyter-widgets/base",
       "_view_module_version": "1.2.0",
       "_view_name": "LayoutView",
       "align_content": null,
       "align_items": null,
       "align_self": null,
       "border": null,
       "bottom": null,
       "display": null,
       "flex": null,
       "flex_flow": null,
       "grid_area": null,
       "grid_auto_columns": null,
       "grid_auto_flow": null,
       "grid_auto_rows": null,
       "grid_column": null,
       "grid_gap": null,
       "grid_row": null,
       "grid_template_areas": null,
       "grid_template_columns": null,
       "grid_template_rows": null,
       "height": null,
       "justify_content": null,
       "justify_items": null,
       "left": null,
       "margin": null,
       "max_height": null,
       "max_width": null,
       "min_height": null,
       "min_width": null,
       "object_fit": null,
       "object_position": null,
       "order": null,
       "overflow": null,
       "overflow_x": null,
       "overflow_y": null,
       "padding": null,
       "right": null,
       "top": null,
       "visibility": null,
       "width": null
      }
     },
     "7fe87525bc61471193035ae4b5ed5193": {
      "model_module": "@jupyter-widgets/controls",
      "model_module_version": "1.5.0",
      "model_name": "FloatProgressModel",
      "state": {
       "_dom_classes": [],
       "_model_module": "@jupyter-widgets/controls",
       "_model_module_version": "1.5.0",
       "_model_name": "FloatProgressModel",
       "_view_count": null,
       "_view_module": "@jupyter-widgets/controls",
       "_view_module_version": "1.5.0",
       "_view_name": "ProgressView",
       "bar_style": "success",
       "description": "Downloading: 100%",
       "description_tooltip": null,
       "layout": "IPY_MODEL_2738d331bb0c43ba8c589bd30005d652",
       "max": 406.0,
       "min": 0.0,
       "orientation": "horizontal",
       "style": "IPY_MODEL_be42de5ab16541038d321498c10da8bf",
       "value": 406.0
      }
     },
     "882888eaf24c4db788f98d06124e916d": {
      "model_module": "@jupyter-widgets/base",
      "model_module_version": "1.2.0",
      "model_name": "LayoutModel",
      "state": {
       "_model_module": "@jupyter-widgets/base",
       "_model_module_version": "1.2.0",
       "_model_name": "LayoutModel",
       "_view_count": null,
       "_view_module": "@jupyter-widgets/base",
       "_view_module_version": "1.2.0",
       "_view_name": "LayoutView",
       "align_content": null,
       "align_items": null,
       "align_self": null,
       "border": null,
       "bottom": null,
       "display": null,
       "flex": null,
       "flex_flow": null,
       "grid_area": null,
       "grid_auto_columns": null,
       "grid_auto_flow": null,
       "grid_auto_rows": null,
       "grid_column": null,
       "grid_gap": null,
       "grid_row": null,
       "grid_template_areas": null,
       "grid_template_columns": null,
       "grid_template_rows": null,
       "height": null,
       "justify_content": null,
       "justify_items": null,
       "left": null,
       "margin": null,
       "max_height": null,
       "max_width": null,
       "min_height": null,
       "min_width": null,
       "object_fit": null,
       "object_position": null,
       "order": null,
       "overflow": null,
       "overflow_x": null,
       "overflow_y": null,
       "padding": null,
       "right": null,
       "top": null,
       "visibility": null,
       "width": null
      }
     },
     "8ab41b40f7b749af8a8988c964ad28cb": {
      "model_module": "@jupyter-widgets/base",
      "model_module_version": "1.2.0",
      "model_name": "LayoutModel",
      "state": {
       "_model_module": "@jupyter-widgets/base",
       "_model_module_version": "1.2.0",
       "_model_name": "LayoutModel",
       "_view_count": null,
       "_view_module": "@jupyter-widgets/base",
       "_view_module_version": "1.2.0",
       "_view_name": "LayoutView",
       "align_content": null,
       "align_items": null,
       "align_self": null,
       "border": null,
       "bottom": null,
       "display": null,
       "flex": null,
       "flex_flow": null,
       "grid_area": null,
       "grid_auto_columns": null,
       "grid_auto_flow": null,
       "grid_auto_rows": null,
       "grid_column": null,
       "grid_gap": null,
       "grid_row": null,
       "grid_template_areas": null,
       "grid_template_columns": null,
       "grid_template_rows": null,
       "height": null,
       "justify_content": null,
       "justify_items": null,
       "left": null,
       "margin": null,
       "max_height": null,
       "max_width": null,
       "min_height": null,
       "min_width": null,
       "object_fit": null,
       "object_position": null,
       "order": null,
       "overflow": null,
       "overflow_x": null,
       "overflow_y": null,
       "padding": null,
       "right": null,
       "top": null,
       "visibility": null,
       "width": null
      }
     },
     "950b690d4a0a48b3ae9fc85c6b66c36a": {
      "model_module": "@jupyter-widgets/base",
      "model_module_version": "1.2.0",
      "model_name": "LayoutModel",
      "state": {
       "_model_module": "@jupyter-widgets/base",
       "_model_module_version": "1.2.0",
       "_model_name": "LayoutModel",
       "_view_count": null,
       "_view_module": "@jupyter-widgets/base",
       "_view_module_version": "1.2.0",
       "_view_name": "LayoutView",
       "align_content": null,
       "align_items": null,
       "align_self": null,
       "border": null,
       "bottom": null,
       "display": null,
       "flex": null,
       "flex_flow": null,
       "grid_area": null,
       "grid_auto_columns": null,
       "grid_auto_flow": null,
       "grid_auto_rows": null,
       "grid_column": null,
       "grid_gap": null,
       "grid_row": null,
       "grid_template_areas": null,
       "grid_template_columns": null,
       "grid_template_rows": null,
       "height": null,
       "justify_content": null,
       "justify_items": null,
       "left": null,
       "margin": null,
       "max_height": null,
       "max_width": null,
       "min_height": null,
       "min_width": null,
       "object_fit": null,
       "object_position": null,
       "order": null,
       "overflow": null,
       "overflow_x": null,
       "overflow_y": null,
       "padding": null,
       "right": null,
       "top": null,
       "visibility": null,
       "width": null
      }
     },
     "a2b1008c416f46acb34837c83d3c815b": {
      "model_module": "@jupyter-widgets/base",
      "model_module_version": "1.2.0",
      "model_name": "LayoutModel",
      "state": {
       "_model_module": "@jupyter-widgets/base",
       "_model_module_version": "1.2.0",
       "_model_name": "LayoutModel",
       "_view_count": null,
       "_view_module": "@jupyter-widgets/base",
       "_view_module_version": "1.2.0",
       "_view_name": "LayoutView",
       "align_content": null,
       "align_items": null,
       "align_self": null,
       "border": null,
       "bottom": null,
       "display": null,
       "flex": null,
       "flex_flow": null,
       "grid_area": null,
       "grid_auto_columns": null,
       "grid_auto_flow": null,
       "grid_auto_rows": null,
       "grid_column": null,
       "grid_gap": null,
       "grid_row": null,
       "grid_template_areas": null,
       "grid_template_columns": null,
       "grid_template_rows": null,
       "height": null,
       "justify_content": null,
       "justify_items": null,
       "left": null,
       "margin": null,
       "max_height": null,
       "max_width": null,
       "min_height": null,
       "min_width": null,
       "object_fit": null,
       "object_position": null,
       "order": null,
       "overflow": null,
       "overflow_x": null,
       "overflow_y": null,
       "padding": null,
       "right": null,
       "top": null,
       "visibility": null,
       "width": null
      }
     },
     "a7f49fba459d4a52a0dd4cd40fc36c9b": {
      "model_module": "@jupyter-widgets/controls",
      "model_module_version": "1.5.0",
      "model_name": "FloatProgressModel",
      "state": {
       "_dom_classes": [],
       "_model_module": "@jupyter-widgets/controls",
       "_model_module_version": "1.5.0",
       "_model_name": "FloatProgressModel",
       "_view_count": null,
       "_view_module": "@jupyter-widgets/controls",
       "_view_module_version": "1.5.0",
       "_view_name": "ProgressView",
       "bar_style": "success",
       "description": "Downloading: 100%",
       "description_tooltip": null,
       "layout": "IPY_MODEL_e0b2ac19f83542c6857296ad068d1ba8",
       "max": 717153.0,
       "min": 0.0,
       "orientation": "horizontal",
       "style": "IPY_MODEL_c647814d60ba4189ad73ff77eae839f9",
       "value": 717153.0
      }
     },
     "ad055db8ce0a4ccc8cfbbfcf0720ee33": {
      "model_module": "@jupyter-widgets/controls",
      "model_module_version": "1.5.0",
      "model_name": "HTMLModel",
      "state": {
       "_dom_classes": [],
       "_model_module": "@jupyter-widgets/controls",
       "_model_module_version": "1.5.0",
       "_model_name": "HTMLModel",
       "_view_count": null,
       "_view_module": "@jupyter-widgets/controls",
       "_view_module_version": "1.5.0",
       "_view_name": "HTMLView",
       "description": "",
       "description_tooltip": null,
       "layout": "IPY_MODEL_c803e82c7d2540aabfbb2375c8268d42",
       "placeholder": "​",
       "style": "IPY_MODEL_f396152c133a4d7c80706ab1c1418286",
       "value": " 406/406 [00:00&lt;00:00, 3.21kB/s]"
      }
     },
     "b3c5bb47d45f410391b1f4fc7c66055b": {
      "model_module": "@jupyter-widgets/controls",
      "model_module_version": "1.5.0",
      "model_name": "DescriptionStyleModel",
      "state": {
       "_model_module": "@jupyter-widgets/controls",
       "_model_module_version": "1.5.0",
       "_model_name": "DescriptionStyleModel",
       "_view_count": null,
       "_view_module": "@jupyter-widgets/base",
       "_view_module_version": "1.2.0",
       "_view_name": "StyleView",
       "description_width": ""
      }
     },
     "b413446d4ace406692c36f33e9db6392": {
      "model_module": "@jupyter-widgets/base",
      "model_module_version": "1.2.0",
      "model_name": "LayoutModel",
      "state": {
       "_model_module": "@jupyter-widgets/base",
       "_model_module_version": "1.2.0",
       "_model_name": "LayoutModel",
       "_view_count": null,
       "_view_module": "@jupyter-widgets/base",
       "_view_module_version": "1.2.0",
       "_view_name": "LayoutView",
       "align_content": null,
       "align_items": null,
       "align_self": null,
       "border": null,
       "bottom": null,
       "display": null,
       "flex": null,
       "flex_flow": null,
       "grid_area": null,
       "grid_auto_columns": null,
       "grid_auto_flow": null,
       "grid_auto_rows": null,
       "grid_column": null,
       "grid_gap": null,
       "grid_row": null,
       "grid_template_areas": null,
       "grid_template_columns": null,
       "grid_template_rows": null,
       "height": null,
       "justify_content": null,
       "justify_items": null,
       "left": null,
       "margin": null,
       "max_height": null,
       "max_width": null,
       "min_height": null,
       "min_width": null,
       "object_fit": null,
       "object_position": null,
       "order": null,
       "overflow": null,
       "overflow_x": null,
       "overflow_y": null,
       "padding": null,
       "right": null,
       "top": null,
       "visibility": null,
       "width": null
      }
     },
     "b8b49b4c4db1416ab26fbf56d9a0c554": {
      "model_module": "@jupyter-widgets/controls",
      "model_module_version": "1.5.0",
      "model_name": "FloatProgressModel",
      "state": {
       "_dom_classes": [],
       "_model_module": "@jupyter-widgets/controls",
       "_model_module_version": "1.5.0",
       "_model_name": "FloatProgressModel",
       "_view_count": null,
       "_view_module": "@jupyter-widgets/controls",
       "_view_module_version": "1.5.0",
       "_view_name": "ProgressView",
       "bar_style": "success",
       "description": "Downloading: 100%",
       "description_tooltip": null,
       "layout": "IPY_MODEL_5667bbbef45642e1963ff4bc95a245c3",
       "max": 572.0,
       "min": 0.0,
       "orientation": "horizontal",
       "style": "IPY_MODEL_ed0eef7d0bd1452eb453812e86849c51",
       "value": 572.0
      }
     },
     "b9945725e1234fd18ee16f8d78349f30": {
      "model_module": "@jupyter-widgets/base",
      "model_module_version": "1.2.0",
      "model_name": "LayoutModel",
      "state": {
       "_model_module": "@jupyter-widgets/base",
       "_model_module_version": "1.2.0",
       "_model_name": "LayoutModel",
       "_view_count": null,
       "_view_module": "@jupyter-widgets/base",
       "_view_module_version": "1.2.0",
       "_view_name": "LayoutView",
       "align_content": null,
       "align_items": null,
       "align_self": null,
       "border": null,
       "bottom": null,
       "display": null,
       "flex": null,
       "flex_flow": null,
       "grid_area": null,
       "grid_auto_columns": null,
       "grid_auto_flow": null,
       "grid_auto_rows": null,
       "grid_column": null,
       "grid_gap": null,
       "grid_row": null,
       "grid_template_areas": null,
       "grid_template_columns": null,
       "grid_template_rows": null,
       "height": null,
       "justify_content": null,
       "justify_items": null,
       "left": null,
       "margin": null,
       "max_height": null,
       "max_width": null,
       "min_height": null,
       "min_width": null,
       "object_fit": null,
       "object_position": null,
       "order": null,
       "overflow": null,
       "overflow_x": null,
       "overflow_y": null,
       "padding": null,
       "right": null,
       "top": null,
       "visibility": null,
       "width": null
      }
     },
     "bc4a25c2c96c40dda1d748d01a8b8374": {
      "model_module": "@jupyter-widgets/controls",
      "model_module_version": "1.5.0",
      "model_name": "HBoxModel",
      "state": {
       "_dom_classes": [],
       "_model_module": "@jupyter-widgets/controls",
       "_model_module_version": "1.5.0",
       "_model_name": "HBoxModel",
       "_view_count": null,
       "_view_module": "@jupyter-widgets/controls",
       "_view_module_version": "1.5.0",
       "_view_name": "HBoxView",
       "box_style": "",
       "children": [
        "IPY_MODEL_db0c08b6dd70438a98a90d036c4c870e",
        "IPY_MODEL_31e1eae048d8489a9e57e75aa073c1bb"
       ],
       "layout": "IPY_MODEL_950b690d4a0a48b3ae9fc85c6b66c36a"
      }
     },
     "be42de5ab16541038d321498c10da8bf": {
      "model_module": "@jupyter-widgets/controls",
      "model_module_version": "1.5.0",
      "model_name": "ProgressStyleModel",
      "state": {
       "_model_module": "@jupyter-widgets/controls",
       "_model_module_version": "1.5.0",
       "_model_name": "ProgressStyleModel",
       "_view_count": null,
       "_view_module": "@jupyter-widgets/base",
       "_view_module_version": "1.2.0",
       "_view_name": "StyleView",
       "bar_color": null,
       "description_width": "initial"
      }
     },
     "c183e8a2c0a643e1a6f61681fe5f319d": {
      "model_module": "@jupyter-widgets/controls",
      "model_module_version": "1.5.0",
      "model_name": "HTMLModel",
      "state": {
       "_dom_classes": [],
       "_model_module": "@jupyter-widgets/controls",
       "_model_module_version": "1.5.0",
       "_model_name": "HTMLModel",
       "_view_count": null,
       "_view_module": "@jupyter-widgets/controls",
       "_view_module_version": "1.5.0",
       "_view_name": "HTMLView",
       "description": "",
       "description_tooltip": null,
       "layout": "IPY_MODEL_e93ff9d781c04d3db198a5b327934f93",
       "placeholder": "​",
       "style": "IPY_MODEL_3dac4d6c96374e6a9ecddda9052b37d8",
       "value": " 717k/717k [00:00&lt;00:00, 952kB/s]"
      }
     },
     "c647814d60ba4189ad73ff77eae839f9": {
      "model_module": "@jupyter-widgets/controls",
      "model_module_version": "1.5.0",
      "model_name": "ProgressStyleModel",
      "state": {
       "_model_module": "@jupyter-widgets/controls",
       "_model_module_version": "1.5.0",
       "_model_name": "ProgressStyleModel",
       "_view_count": null,
       "_view_module": "@jupyter-widgets/base",
       "_view_module_version": "1.2.0",
       "_view_name": "StyleView",
       "bar_color": null,
       "description_width": "initial"
      }
     },
     "c803e82c7d2540aabfbb2375c8268d42": {
      "model_module": "@jupyter-widgets/base",
      "model_module_version": "1.2.0",
      "model_name": "LayoutModel",
      "state": {
       "_model_module": "@jupyter-widgets/base",
       "_model_module_version": "1.2.0",
       "_model_name": "LayoutModel",
       "_view_count": null,
       "_view_module": "@jupyter-widgets/base",
       "_view_module_version": "1.2.0",
       "_view_name": "LayoutView",
       "align_content": null,
       "align_items": null,
       "align_self": null,
       "border": null,
       "bottom": null,
       "display": null,
       "flex": null,
       "flex_flow": null,
       "grid_area": null,
       "grid_auto_columns": null,
       "grid_auto_flow": null,
       "grid_auto_rows": null,
       "grid_column": null,
       "grid_gap": null,
       "grid_row": null,
       "grid_template_areas": null,
       "grid_template_columns": null,
       "grid_template_rows": null,
       "height": null,
       "justify_content": null,
       "justify_items": null,
       "left": null,
       "margin": null,
       "max_height": null,
       "max_width": null,
       "min_height": null,
       "min_width": null,
       "object_fit": null,
       "object_position": null,
       "order": null,
       "overflow": null,
       "overflow_x": null,
       "overflow_y": null,
       "padding": null,
       "right": null,
       "top": null,
       "visibility": null,
       "width": null
      }
     },
     "ce03f15f29764408b81d0b519d306164": {
      "model_module": "@jupyter-widgets/controls",
      "model_module_version": "1.5.0",
      "model_name": "FloatProgressModel",
      "state": {
       "_dom_classes": [],
       "_model_module": "@jupyter-widgets/controls",
       "_model_module_version": "1.5.0",
       "_model_name": "FloatProgressModel",
       "_view_count": null,
       "_view_module": "@jupyter-widgets/controls",
       "_view_module_version": "1.5.0",
       "_view_name": "ProgressView",
       "bar_style": "success",
       "description": "Evaluating: 100%",
       "description_tooltip": null,
       "layout": "IPY_MODEL_22cdd937e84a44aba8c583ae29f1798e",
       "max": 206.0,
       "min": 0.0,
       "orientation": "horizontal",
       "style": "IPY_MODEL_ee3727ef80d8415d99d32763f4ec65de",
       "value": 206.0
      }
     },
     "d37e7eb4798c40a5826a4f65dc25d954": {
      "model_module": "@jupyter-widgets/base",
      "model_module_version": "1.2.0",
      "model_name": "LayoutModel",
      "state": {
       "_model_module": "@jupyter-widgets/base",
       "_model_module_version": "1.2.0",
       "_model_name": "LayoutModel",
       "_view_count": null,
       "_view_module": "@jupyter-widgets/base",
       "_view_module_version": "1.2.0",
       "_view_name": "LayoutView",
       "align_content": null,
       "align_items": null,
       "align_self": null,
       "border": null,
       "bottom": null,
       "display": null,
       "flex": null,
       "flex_flow": null,
       "grid_area": null,
       "grid_auto_columns": null,
       "grid_auto_flow": null,
       "grid_auto_rows": null,
       "grid_column": null,
       "grid_gap": null,
       "grid_row": null,
       "grid_template_areas": null,
       "grid_template_columns": null,
       "grid_template_rows": null,
       "height": null,
       "justify_content": null,
       "justify_items": null,
       "left": null,
       "margin": null,
       "max_height": null,
       "max_width": null,
       "min_height": null,
       "min_width": null,
       "object_fit": null,
       "object_position": null,
       "order": null,
       "overflow": null,
       "overflow_x": null,
       "overflow_y": null,
       "padding": null,
       "right": null,
       "top": null,
       "visibility": null,
       "width": null
      }
     },
     "d8f9b297b8274cd5b115bbec4a357829": {
      "model_module": "@jupyter-widgets/controls",
      "model_module_version": "1.5.0",
      "model_name": "DescriptionStyleModel",
      "state": {
       "_model_module": "@jupyter-widgets/controls",
       "_model_module_version": "1.5.0",
       "_model_name": "DescriptionStyleModel",
       "_view_count": null,
       "_view_module": "@jupyter-widgets/base",
       "_view_module_version": "1.2.0",
       "_view_name": "StyleView",
       "description_width": ""
      }
     },
     "db0c08b6dd70438a98a90d036c4c870e": {
      "model_module": "@jupyter-widgets/controls",
      "model_module_version": "1.5.0",
      "model_name": "FloatProgressModel",
      "state": {
       "_dom_classes": [],
       "_model_module": "@jupyter-widgets/controls",
       "_model_module_version": "1.5.0",
       "_model_name": "FloatProgressModel",
       "_view_count": null,
       "_view_module": "@jupyter-widgets/controls",
       "_view_module_version": "1.5.0",
       "_view_name": "ProgressView",
       "bar_style": "success",
       "description": "Downloading: 100%",
       "description_tooltip": null,
       "layout": "IPY_MODEL_8ab41b40f7b749af8a8988c964ad28cb",
       "max": 112.0,
       "min": 0.0,
       "orientation": "horizontal",
       "style": "IPY_MODEL_15a5f583f7104a77a467111fdd339a50",
       "value": 112.0
      }
     },
     "e0514eca6ac344bc8281a563328724a8": {
      "model_module": "@jupyter-widgets/base",
      "model_module_version": "1.2.0",
      "model_name": "LayoutModel",
      "state": {
       "_model_module": "@jupyter-widgets/base",
       "_model_module_version": "1.2.0",
       "_model_name": "LayoutModel",
       "_view_count": null,
       "_view_module": "@jupyter-widgets/base",
       "_view_module_version": "1.2.0",
       "_view_name": "LayoutView",
       "align_content": null,
       "align_items": null,
       "align_self": null,
       "border": null,
       "bottom": null,
       "display": null,
       "flex": null,
       "flex_flow": null,
       "grid_area": null,
       "grid_auto_columns": null,
       "grid_auto_flow": null,
       "grid_auto_rows": null,
       "grid_column": null,
       "grid_gap": null,
       "grid_row": null,
       "grid_template_areas": null,
       "grid_template_columns": null,
       "grid_template_rows": null,
       "height": null,
       "justify_content": null,
       "justify_items": null,
       "left": null,
       "margin": null,
       "max_height": null,
       "max_width": null,
       "min_height": null,
       "min_width": null,
       "object_fit": null,
       "object_position": null,
       "order": null,
       "overflow": null,
       "overflow_x": null,
       "overflow_y": null,
       "padding": null,
       "right": null,
       "top": null,
       "visibility": null,
       "width": null
      }
     },
     "e0b2ac19f83542c6857296ad068d1ba8": {
      "model_module": "@jupyter-widgets/base",
      "model_module_version": "1.2.0",
      "model_name": "LayoutModel",
      "state": {
       "_model_module": "@jupyter-widgets/base",
       "_model_module_version": "1.2.0",
       "_model_name": "LayoutModel",
       "_view_count": null,
       "_view_module": "@jupyter-widgets/base",
       "_view_module_version": "1.2.0",
       "_view_name": "LayoutView",
       "align_content": null,
       "align_items": null,
       "align_self": null,
       "border": null,
       "bottom": null,
       "display": null,
       "flex": null,
       "flex_flow": null,
       "grid_area": null,
       "grid_auto_columns": null,
       "grid_auto_flow": null,
       "grid_auto_rows": null,
       "grid_column": null,
       "grid_gap": null,
       "grid_row": null,
       "grid_template_areas": null,
       "grid_template_columns": null,
       "grid_template_rows": null,
       "height": null,
       "justify_content": null,
       "justify_items": null,
       "left": null,
       "margin": null,
       "max_height": null,
       "max_width": null,
       "min_height": null,
       "min_width": null,
       "object_fit": null,
       "object_position": null,
       "order": null,
       "overflow": null,
       "overflow_x": null,
       "overflow_y": null,
       "padding": null,
       "right": null,
       "top": null,
       "visibility": null,
       "width": null
      }
     },
     "e6137b2d0e3f4ef79128a8486ed65c5e": {
      "model_module": "@jupyter-widgets/controls",
      "model_module_version": "1.5.0",
      "model_name": "HTMLModel",
      "state": {
       "_dom_classes": [],
       "_model_module": "@jupyter-widgets/controls",
       "_model_module_version": "1.5.0",
       "_model_name": "HTMLModel",
       "_view_count": null,
       "_view_module": "@jupyter-widgets/controls",
       "_view_module_version": "1.5.0",
       "_view_name": "HTMLView",
       "description": "",
       "description_tooltip": null,
       "layout": "IPY_MODEL_b9945725e1234fd18ee16f8d78349f30",
       "placeholder": "​",
       "style": "IPY_MODEL_504f56a063c245d5aa2385ddfe5d6d11",
       "value": " 1641/1641 [5:29:42&lt;00:00, 12.06s/it]"
      }
     },
     "e93ff9d781c04d3db198a5b327934f93": {
      "model_module": "@jupyter-widgets/base",
      "model_module_version": "1.2.0",
      "model_name": "LayoutModel",
      "state": {
       "_model_module": "@jupyter-widgets/base",
       "_model_module_version": "1.2.0",
       "_model_name": "LayoutModel",
       "_view_count": null,
       "_view_module": "@jupyter-widgets/base",
       "_view_module_version": "1.2.0",
       "_view_name": "LayoutView",
       "align_content": null,
       "align_items": null,
       "align_self": null,
       "border": null,
       "bottom": null,
       "display": null,
       "flex": null,
       "flex_flow": null,
       "grid_area": null,
       "grid_auto_columns": null,
       "grid_auto_flow": null,
       "grid_auto_rows": null,
       "grid_column": null,
       "grid_gap": null,
       "grid_row": null,
       "grid_template_areas": null,
       "grid_template_columns": null,
       "grid_template_rows": null,
       "height": null,
       "justify_content": null,
       "justify_items": null,
       "left": null,
       "margin": null,
       "max_height": null,
       "max_width": null,
       "min_height": null,
       "min_width": null,
       "object_fit": null,
       "object_position": null,
       "order": null,
       "overflow": null,
       "overflow_x": null,
       "overflow_y": null,
       "padding": null,
       "right": null,
       "top": null,
       "visibility": null,
       "width": null
      }
     },
     "ed0eef7d0bd1452eb453812e86849c51": {
      "model_module": "@jupyter-widgets/controls",
      "model_module_version": "1.5.0",
      "model_name": "ProgressStyleModel",
      "state": {
       "_model_module": "@jupyter-widgets/controls",
       "_model_module_version": "1.5.0",
       "_model_name": "ProgressStyleModel",
       "_view_count": null,
       "_view_module": "@jupyter-widgets/base",
       "_view_module_version": "1.2.0",
       "_view_name": "StyleView",
       "bar_color": null,
       "description_width": "initial"
      }
     },
     "ee3727ef80d8415d99d32763f4ec65de": {
      "model_module": "@jupyter-widgets/controls",
      "model_module_version": "1.5.0",
      "model_name": "ProgressStyleModel",
      "state": {
       "_model_module": "@jupyter-widgets/controls",
       "_model_module_version": "1.5.0",
       "_model_name": "ProgressStyleModel",
       "_view_count": null,
       "_view_module": "@jupyter-widgets/base",
       "_view_module_version": "1.2.0",
       "_view_name": "StyleView",
       "bar_color": null,
       "description_width": "initial"
      }
     },
     "f396152c133a4d7c80706ab1c1418286": {
      "model_module": "@jupyter-widgets/controls",
      "model_module_version": "1.5.0",
      "model_name": "DescriptionStyleModel",
      "state": {
       "_model_module": "@jupyter-widgets/controls",
       "_model_module_version": "1.5.0",
       "_model_name": "DescriptionStyleModel",
       "_view_count": null,
       "_view_module": "@jupyter-widgets/base",
       "_view_module_version": "1.2.0",
       "_view_name": "StyleView",
       "description_width": ""
      }
     },
     "f85dce4fdf1a47b69ae24b7164095b4b": {
      "model_module": "@jupyter-widgets/base",
      "model_module_version": "1.2.0",
      "model_name": "LayoutModel",
      "state": {
       "_model_module": "@jupyter-widgets/base",
       "_model_module_version": "1.2.0",
       "_model_name": "LayoutModel",
       "_view_count": null,
       "_view_module": "@jupyter-widgets/base",
       "_view_module_version": "1.2.0",
       "_view_name": "LayoutView",
       "align_content": null,
       "align_items": null,
       "align_self": null,
       "border": null,
       "bottom": null,
       "display": null,
       "flex": null,
       "flex_flow": null,
       "grid_area": null,
       "grid_auto_columns": null,
       "grid_auto_flow": null,
       "grid_auto_rows": null,
       "grid_column": null,
       "grid_gap": null,
       "grid_row": null,
       "grid_template_areas": null,
       "grid_template_columns": null,
       "grid_template_rows": null,
       "height": null,
       "justify_content": null,
       "justify_items": null,
       "left": null,
       "margin": null,
       "max_height": null,
       "max_width": null,
       "min_height": null,
       "min_width": null,
       "object_fit": null,
       "object_position": null,
       "order": null,
       "overflow": null,
       "overflow_x": null,
       "overflow_y": null,
       "padding": null,
       "right": null,
       "top": null,
       "visibility": null,
       "width": null
      }
     },
     "fd25a5ee790f4e9da98e617c9ef90b57": {
      "model_module": "@jupyter-widgets/controls",
      "model_module_version": "1.5.0",
      "model_name": "HTMLModel",
      "state": {
       "_dom_classes": [],
       "_model_module": "@jupyter-widgets/controls",
       "_model_module_version": "1.5.0",
       "_model_name": "HTMLModel",
       "_view_count": null,
       "_view_module": "@jupyter-widgets/controls",
       "_view_module_version": "1.5.0",
       "_view_name": "HTMLView",
       "description": "",
       "description_tooltip": null,
       "layout": "IPY_MODEL_07fff482c07b42558b32bca30746dcca",
       "placeholder": "​",
       "style": "IPY_MODEL_b3c5bb47d45f410391b1f4fc7c66055b",
       "value": " 206/206 [23:54&lt;00:00,  6.96s/it]"
      }
     }
    },
    "version_major": 2,
    "version_minor": 0
   }
  }
 },
 "nbformat": 4,
 "nbformat_minor": 4
}
